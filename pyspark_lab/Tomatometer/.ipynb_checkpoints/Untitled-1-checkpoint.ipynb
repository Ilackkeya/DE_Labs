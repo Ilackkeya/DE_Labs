{
 "cells": [
  {
   "cell_type": "code",
   "execution_count": 2,
   "metadata": {},
   "outputs": [],
   "source": [
    "import pandas as pd\n",
    "import numpy as np"
   ]
  },
  {
   "cell_type": "code",
   "execution_count": 5,
   "metadata": {},
   "outputs": [],
   "source": [
    "df = pd.read_parquet(r'C:\\Users\\bsila\\Dexian_Bootcamp\\code\\DataPyLabExercise\\PySpark_Labs\\Tomatometer\\top500_movies.parquet')"
   ]
  },
  {
   "cell_type": "code",
   "execution_count": 6,
   "metadata": {},
   "outputs": [
    {
     "data": {
      "text/html": [
       "<div>\n",
       "<style scoped>\n",
       "    .dataframe tbody tr th:only-of-type {\n",
       "        vertical-align: middle;\n",
       "    }\n",
       "\n",
       "    .dataframe tbody tr th {\n",
       "        vertical-align: top;\n",
       "    }\n",
       "\n",
       "    .dataframe thead th {\n",
       "        text-align: right;\n",
       "    }\n",
       "</style>\n",
       "<table border=\"1\" class=\"dataframe\">\n",
       "  <thead>\n",
       "    <tr style=\"text-align: right;\">\n",
       "      <th></th>\n",
       "      <th>id</th>\n",
       "      <th>title</th>\n",
       "      <th>audienceScore</th>\n",
       "      <th>tomatoMeter</th>\n",
       "      <th>rating</th>\n",
       "      <th>ratingContents</th>\n",
       "      <th>releaseDateTheaters</th>\n",
       "      <th>releaseDateStreaming</th>\n",
       "      <th>runtimeMinutes</th>\n",
       "      <th>genre</th>\n",
       "      <th>originalLanguage</th>\n",
       "      <th>director</th>\n",
       "      <th>writer</th>\n",
       "      <th>boxOffice</th>\n",
       "      <th>distributor</th>\n",
       "      <th>soundMix</th>\n",
       "      <th>year</th>\n",
       "    </tr>\n",
       "  </thead>\n",
       "  <tbody>\n",
       "    <tr>\n",
       "      <th>0</th>\n",
       "      <td>may_fools</td>\n",
       "      <td>May Fools</td>\n",
       "      <td>76</td>\n",
       "      <td>100</td>\n",
       "      <td>None</td>\n",
       "      <td>None</td>\n",
       "      <td>1990-01-24</td>\n",
       "      <td>None</td>\n",
       "      <td>105.0</td>\n",
       "      <td>Comedy, Drama</td>\n",
       "      <td>English</td>\n",
       "      <td>Louis Malle</td>\n",
       "      <td>None</td>\n",
       "      <td>$20.1K</td>\n",
       "      <td>None</td>\n",
       "      <td>None</td>\n",
       "      <td>1990</td>\n",
       "    </tr>\n",
       "    <tr>\n",
       "      <th>1</th>\n",
       "      <td>tom_dick_and_harry</td>\n",
       "      <td>Tom, Dick and Harry</td>\n",
       "      <td>46</td>\n",
       "      <td>100</td>\n",
       "      <td>None</td>\n",
       "      <td>None</td>\n",
       "      <td>1931-06-13</td>\n",
       "      <td>2009-07-21</td>\n",
       "      <td>86.0</td>\n",
       "      <td>Comedy, Drama</td>\n",
       "      <td>English</td>\n",
       "      <td>Garson Kanin</td>\n",
       "      <td>None</td>\n",
       "      <td>None</td>\n",
       "      <td>RKO Radio Pictures</td>\n",
       "      <td>None</td>\n",
       "      <td>1931</td>\n",
       "    </tr>\n",
       "    <tr>\n",
       "      <th>2</th>\n",
       "      <td>dance_academy_the_comeback</td>\n",
       "      <td>Dance Academy: The Movie</td>\n",
       "      <td>80</td>\n",
       "      <td>100</td>\n",
       "      <td>None</td>\n",
       "      <td>None</td>\n",
       "      <td>2018-03-02</td>\n",
       "      <td>2018-04-03</td>\n",
       "      <td>101.0</td>\n",
       "      <td>Drama</td>\n",
       "      <td>English</td>\n",
       "      <td>Jeffrey Walker</td>\n",
       "      <td>Samantha Strauss</td>\n",
       "      <td>None</td>\n",
       "      <td>Cinedigm</td>\n",
       "      <td>None</td>\n",
       "      <td>2018</td>\n",
       "    </tr>\n",
       "    <tr>\n",
       "      <th>3</th>\n",
       "      <td>berkeley_in_the_sixties</td>\n",
       "      <td>Berkeley in the Sixties</td>\n",
       "      <td>76</td>\n",
       "      <td>100</td>\n",
       "      <td>None</td>\n",
       "      <td>None</td>\n",
       "      <td>1990-01-01</td>\n",
       "      <td>2002-12-10</td>\n",
       "      <td>117.0</td>\n",
       "      <td>Documentary</td>\n",
       "      <td>English</td>\n",
       "      <td>Mark Kitchell</td>\n",
       "      <td>Mark Kitchell</td>\n",
       "      <td>None</td>\n",
       "      <td>First Run, California Newsreel</td>\n",
       "      <td>None</td>\n",
       "      <td>1990</td>\n",
       "    </tr>\n",
       "    <tr>\n",
       "      <th>4</th>\n",
       "      <td>love_and_death</td>\n",
       "      <td>Love and Death</td>\n",
       "      <td>90</td>\n",
       "      <td>100</td>\n",
       "      <td>None</td>\n",
       "      <td>None</td>\n",
       "      <td>1975-06-10</td>\n",
       "      <td>2000-07-05</td>\n",
       "      <td>85.0</td>\n",
       "      <td>Comedy</td>\n",
       "      <td>English</td>\n",
       "      <td>Woody Allen</td>\n",
       "      <td>Woody Allen</td>\n",
       "      <td>None</td>\n",
       "      <td>None</td>\n",
       "      <td>None</td>\n",
       "      <td>1975</td>\n",
       "    </tr>\n",
       "  </tbody>\n",
       "</table>\n",
       "</div>"
      ],
      "text/plain": [
       "                           id                     title  audienceScore  \\\n",
       "0                   may_fools                 May Fools             76   \n",
       "1          tom_dick_and_harry       Tom, Dick and Harry             46   \n",
       "2  dance_academy_the_comeback  Dance Academy: The Movie             80   \n",
       "3     berkeley_in_the_sixties   Berkeley in the Sixties             76   \n",
       "4              love_and_death            Love and Death             90   \n",
       "\n",
       "   tomatoMeter rating ratingContents releaseDateTheaters releaseDateStreaming  \\\n",
       "0          100   None           None          1990-01-24                 None   \n",
       "1          100   None           None          1931-06-13           2009-07-21   \n",
       "2          100   None           None          2018-03-02           2018-04-03   \n",
       "3          100   None           None          1990-01-01           2002-12-10   \n",
       "4          100   None           None          1975-06-10           2000-07-05   \n",
       "\n",
       "   runtimeMinutes          genre originalLanguage        director  \\\n",
       "0           105.0  Comedy, Drama          English     Louis Malle   \n",
       "1            86.0  Comedy, Drama          English    Garson Kanin   \n",
       "2           101.0          Drama          English  Jeffrey Walker   \n",
       "3           117.0    Documentary          English   Mark Kitchell   \n",
       "4            85.0         Comedy          English     Woody Allen   \n",
       "\n",
       "             writer boxOffice                     distributor soundMix  year  \n",
       "0              None    $20.1K                            None     None  1990  \n",
       "1              None      None              RKO Radio Pictures     None  1931  \n",
       "2  Samantha Strauss      None                        Cinedigm     None  2018  \n",
       "3     Mark Kitchell      None  First Run, California Newsreel     None  1990  \n",
       "4       Woody Allen      None                            None     None  1975  "
      ]
     },
     "execution_count": 6,
     "metadata": {},
     "output_type": "execute_result"
    }
   ],
   "source": [
    "df.head()"
   ]
  },
  {
   "cell_type": "markdown",
   "metadata": {},
   "source": [
    "Convert: Convert boxOffice to a number. Take into account that the string format includes a suffix such as \"K\", \"M\", \"B\", etc."
   ]
  },
  {
   "cell_type": "code",
   "execution_count": 7,
   "metadata": {},
   "outputs": [
    {
     "data": {
      "text/plain": [
       "array(['$20.1K', None, '$70.8K', '$933.4K', '$41.0K', '$321.6K', '$50.1K',\n",
       "       '$11.6K', '$12.8K', '$23.9K', '$2.4M', '$5.6K', '$4.0K', '$922.6K',\n",
       "       '$39.9K', '$808.5K', '$8.3K', '$265.3K', '$45.4K', '$67.6K',\n",
       "       '$56.9K', '$24.0K', '$24.1K', '$370.2K', '$79.0K', '$35.6K',\n",
       "       '$987.8K', '$130.1K', '$30.1K', '$2.1M', '$12.0K', '$36.0K',\n",
       "       '$6.0M', '$101.5K', '$42.0K', '$27.5K', '$1.5M', '$59.4K', '$3.0M',\n",
       "       '$22.2K', '$26.6K', '$15.7M', '$134.7K', '$11.5K', '$15.1K',\n",
       "       '$544.8K', '$390', '$1.1K', '$71.5K', '$22.9K', '$7.8K', '$39.4K',\n",
       "       '$43.2K', '$21.7K', '$823.6K', '$3.3K', '$71.7K', '$143.6K',\n",
       "       '$21.6K', '$2.9K', '$114.3K', '$285.8K', '$500.8K', '$44.3K',\n",
       "       '$21.9K', '$8.2K', '$5.9K', '$2.6M', '$18.7M', '$13.0K', '$670.9K',\n",
       "       '$234.2K', '$10.1K', '$130.3K', '$795.3K', '$75.8K', '$20.8K',\n",
       "       '$7.3K', '$495.3K', '$55.6K', '$25.1K', '$2.9M', '$6.2K',\n",
       "       '$681.1K', '$13.3K', '$3.2K', '$50.5K', '$5.0K', '$8.5K', '$7.0K',\n",
       "       '$9.9K', '$23.8K', '$224.1K', '$187.7K', '$25.8K', '$258.4K',\n",
       "       '$121.5K', '$10.3K', '$709.6K', '$244.1K'], dtype=object)"
      ]
     },
     "execution_count": 7,
     "metadata": {},
     "output_type": "execute_result"
    }
   ],
   "source": [
    "df['boxOffice'].unique()"
   ]
  },
  {
   "cell_type": "code",
   "execution_count": 9,
   "metadata": {},
   "outputs": [
    {
     "data": {
      "text/plain": [
       "dtype('O')"
      ]
     },
     "execution_count": 9,
     "metadata": {},
     "output_type": "execute_result"
    }
   ],
   "source": [
    "df['boxOffice'].dtype"
   ]
  },
  {
   "cell_type": "code",
   "execution_count": 18,
   "metadata": {},
   "outputs": [
    {
     "name": "stdout",
     "output_type": "stream",
     "text": [
      "1\n"
     ]
    },
    {
     "ename": "TypeError",
     "evalue": "'NoneType' object is not subscriptable",
     "output_type": "error",
     "traceback": [
      "\u001b[1;31m---------------------------------------------------------------------------\u001b[0m",
      "\u001b[1;31mTypeError\u001b[0m                                 Traceback (most recent call last)",
      "Cell \u001b[1;32mIn[18], line 2\u001b[0m\n\u001b[0;32m      1\u001b[0m \u001b[38;5;28;01mfor\u001b[39;00m i \u001b[38;5;129;01min\u001b[39;00m df[\u001b[38;5;124m'\u001b[39m\u001b[38;5;124mboxOffice\u001b[39m\u001b[38;5;124m'\u001b[39m]:\n\u001b[1;32m----> 2\u001b[0m     \u001b[38;5;28mprint\u001b[39m(i[\u001b[38;5;241m-\u001b[39m\u001b[38;5;241m1\u001b[39m])\n",
      "\u001b[1;31mTypeError\u001b[0m: 'NoneType' object is not subscriptable"
     ]
    }
   ],
   "source": [
    "for i in df['boxOffice']:\n",
    "    print(i[-1])"
   ]
  },
  {
   "cell_type": "code",
   "execution_count": 17,
   "metadata": {},
   "outputs": [
    {
     "ename": "TypeError",
     "evalue": "'NoneType' object is not subscriptable",
     "output_type": "error",
     "traceback": [
      "\u001b[1;31m---------------------------------------------------------------------------\u001b[0m",
      "\u001b[1;31mTypeError\u001b[0m                                 Traceback (most recent call last)",
      "Cell \u001b[1;32mIn[17], line 2\u001b[0m\n\u001b[0;32m      1\u001b[0m \u001b[38;5;28;01mfor\u001b[39;00m i \u001b[38;5;129;01min\u001b[39;00m df[\u001b[38;5;124m'\u001b[39m\u001b[38;5;124mboxOffice\u001b[39m\u001b[38;5;124m'\u001b[39m]:\n\u001b[1;32m----> 2\u001b[0m     \u001b[38;5;28;01mif\u001b[39;00m i[\u001b[38;5;241m-\u001b[39m\u001b[38;5;241m1\u001b[39m] \u001b[38;5;241m==\u001b[39m \u001b[38;5;124m'\u001b[39m\u001b[38;5;124mK\u001b[39m\u001b[38;5;124m'\u001b[39m:\n\u001b[0;32m      3\u001b[0m         value \u001b[38;5;241m=\u001b[39m i[:\u001b[38;5;241m-\u001b[39m\u001b[38;5;241m1\u001b[39m]\u001b[38;5;241m*\u001b[39m\u001b[38;5;241m1000\u001b[39m\n\u001b[0;32m      4\u001b[0m         df[\u001b[38;5;124m'\u001b[39m\u001b[38;5;124mboxOffice\u001b[39m\u001b[38;5;124m'\u001b[39m] \u001b[38;5;241m=\u001b[39m df[\u001b[38;5;124m'\u001b[39m\u001b[38;5;124mboxOffice\u001b[39m\u001b[38;5;124m'\u001b[39m]\u001b[38;5;241m.\u001b[39mreplace({i : value})\n",
      "\u001b[1;31mTypeError\u001b[0m: 'NoneType' object is not subscriptable"
     ]
    }
   ],
   "source": [
    "for i in df['boxOffice']:\n",
    "    if i[-1] == 'K':\n",
    "        value = i[:-1]*1000\n",
    "        df['boxOffice'] = df['boxOffice'].replace({i : value})\n",
    "    elif i[-1] == 'M':\n",
    "        value = i[:-1]*1000000\n",
    "        df['boxOffice'] = df['boxOffice'].replace({i : value})\n",
    "    elif i[-1] == 'B':\n",
    "        value = i[:-1]*1000000000\n",
    "        df['boxOffice'] = df['boxOffice'].replace({i : value})\n",
    "    else:\n",
    "        continue"
   ]
  },
  {
   "cell_type": "code",
   "execution_count": null,
   "metadata": {},
   "outputs": [],
   "source": []
  },
  {
   "cell_type": "code",
   "execution_count": null,
   "metadata": {},
   "outputs": [],
   "source": []
  },
  {
   "cell_type": "code",
   "execution_count": null,
   "metadata": {},
   "outputs": [],
   "source": []
  },
  {
   "cell_type": "code",
   "execution_count": null,
   "metadata": {},
   "outputs": [],
   "source": []
  },
  {
   "cell_type": "code",
   "execution_count": null,
   "metadata": {},
   "outputs": [],
   "source": []
  },
  {
   "cell_type": "code",
   "execution_count": null,
   "metadata": {},
   "outputs": [],
   "source": []
  },
  {
   "cell_type": "code",
   "execution_count": null,
   "metadata": {},
   "outputs": [],
   "source": []
  },
  {
   "cell_type": "code",
   "execution_count": null,
   "metadata": {},
   "outputs": [],
   "source": []
  },
  {
   "cell_type": "code",
   "execution_count": null,
   "metadata": {},
   "outputs": [],
   "source": []
  }
 ],
 "metadata": {
  "kernelspec": {
   "display_name": "base",
   "language": "python",
   "name": "python3"
  },
  "language_info": {
   "codemirror_mode": {
    "name": "ipython",
    "version": 3
   },
   "file_extension": ".py",
   "mimetype": "text/x-python",
   "name": "python",
   "nbconvert_exporter": "python",
   "pygments_lexer": "ipython3",
   "version": "3.11.7"
  }
 },
 "nbformat": 4,
 "nbformat_minor": 2
}
