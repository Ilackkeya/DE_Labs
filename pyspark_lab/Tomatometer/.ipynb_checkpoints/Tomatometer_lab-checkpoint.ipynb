{
 "cells": [
  {
   "cell_type": "code",
   "execution_count": 1,
   "id": "2f7778a6-7d54-4f04-b84f-d761d507a316",
   "metadata": {},
   "outputs": [],
   "source": [
    "from pyspark.sql import SparkSession\n",
    "import pyspark.sql.functions as F\n",
    "from pyspark.sql.types import DecimalType\n",
    "\n",
    "#Initialize a SparkSession\n",
    "spark = SparkSession.builder.appName(\"Tomatometer\").getOrCreate()"
   ]
  },
  {
   "cell_type": "code",
   "execution_count": 2,
   "id": "d52be1e8-836a-4dfd-99f0-27bc89e02b3a",
   "metadata": {},
   "outputs": [],
   "source": [
    "# Read a CSV file\n",
    "df = spark.read.csv(\"rotten_tomatoes_movies.csv\", header=True, inferSchema=True)"
   ]
  },
  {
   "cell_type": "code",
   "execution_count": 3,
   "id": "399f2aa7-13e6-421a-a567-2232a5cf6c96",
   "metadata": {},
   "outputs": [
    {
     "name": "stdout",
     "output_type": "stream",
     "text": [
      "+--------------------+--------------------+-------------+-----------+------+--------------------+-------------------+--------------------+--------------+--------------------+----------------+--------------------+--------------------+---------+-----------------+--------+\n",
      "|                  id|               title|audienceScore|tomatoMeter|rating|      ratingContents|releaseDateTheaters|releaseDateStreaming|runtimeMinutes|               genre|originalLanguage|            director|              writer|boxOffice|      distributor|soundMix|\n",
      "+--------------------+--------------------+-------------+-----------+------+--------------------+-------------------+--------------------+--------------+--------------------+----------------+--------------------+--------------------+---------+-----------------+--------+\n",
      "|  space-zombie-bingo| Space Zombie Bingo!|           50|       NULL|  NULL|                NULL|               NULL|          2018-08-25|            75|Comedy, Horror, S...|         English|       George Ormrod|George Ormrod,Joh...|     NULL|             NULL|    NULL|\n",
      "|     the_green_grass|     The Green Grass|         NULL|       NULL|  NULL|                NULL|               NULL|          2020-02-11|           114|               Drama|         English|     Tiffany Edwards|     Tiffany Edwards|     NULL|             NULL|    NULL|\n",
      "|           love_lies|          Love, Lies|           43|       NULL|  NULL|                NULL|               NULL|                NULL|           120|               Drama|          Korean|Park Heung-Sik,He...|Ha Young-Joon,Jeo...|     NULL|             NULL|    NULL|\n",
      "|the_sore_losers_1997|         Sore Losers|           60|       NULL|  NULL|                NULL|               NULL|          2020-10-23|            90|Action, Mystery &...|         English|John Michael McCa...|John Michael McCa...|     NULL|             NULL|    NULL|\n",
      "|dinosaur_island_2002|     Dinosaur Island|           70|       NULL|  NULL|                NULL|               NULL|          2017-03-27|            80|Fantasy, Adventur...|         English|       Will Meugniot|            John Loy|     NULL|             NULL|    NULL|\n",
      "|         adrift_2018|              Adrift|           65|         69| PG-13|['Injury Images',...|         2018-06-01|          2018-08-21|           120|Adventure, Drama,...|         English|   Baltasar Kormákur|Aaron Kandell,Jor...|   $31.4M|        STX Films|    NULL|\n",
      "|malta-con-huevo-s...|      Scrambled Beer|           55|       NULL|  NULL|                NULL|               NULL|          2015-10-05|            88|              Comedy|         Spanish|Cristobal Valderrama|Cristobal Valderrama|     NULL|             NULL|    NULL|\n",
      "|    kakabakaba-ka-ba|Kakabakaba ka ba?...|           88|       NULL|  NULL|                NULL|               NULL|                NULL|          NULL|                NULL|            NULL|        Mike de Leon|                NULL|     NULL|             NULL|    NULL|\n",
      "|          sundowning|          Sundowning|         NULL|       NULL|  NULL|                NULL|               NULL|                NULL|           123|               Drama|         English|      Jim Comas Cole|                NULL|     NULL|             NULL|    NULL|\n",
      "|1035316-born_to_kill|        Born to Kill|           74|         83|  NULL|                NULL|         1947-04-30|          2016-05-23|            92|        Crime, Drama|         English|         Robert Wise|Eve Greene,Richar...|     NULL|             NULL|    NULL|\n",
      "|1015331-number_on...|Number One With a...|           19|       NULL|  NULL|                NULL|               NULL|          2012-03-13|           103|        Crime, Drama|         English|         Jack Smight|                NULL|     NULL|             NULL|    NULL|\n",
      "|  garden_murder_case|The Garden Murder...|         NULL|       NULL|  NULL|                NULL|               NULL|          2016-10-20|            61|  Mystery & thriller|         English|      Edwin L. Marin|                NULL|     NULL|             NULL|    NULL|\n",
      "|margarita_happy_hour|Margarita Happy Hour|         NULL|         76|  NULL|                NULL|         2002-03-22|                NULL|            98|               Drama|         English|        Ilya Chaiken|        Ilya Chaiken|   $11.5K|Passport Pictures|Surround|\n",
      "|  leap_of_faith_2019|Leap of Faith: Wi...|           86|         93|  NULL|                NULL|               NULL|          2020-11-19|           104|Documentary, Myst...|         English|Alexandre O. Phil...|Alexandre O. Phil...|     NULL|             NULL|    NULL|\n",
      "| shake-rattle-roll-3|Shake Rattle & Ro...|           89|       NULL|  NULL|                NULL|               NULL|          2019-01-04|           120|      Comedy, Horror|         Tagalog|Peque Gallaga,Lor...|                NULL|     NULL|             NULL|    NULL|\n",
      "|           daag_1973|           The Stain|           82|       NULL|  NULL|                NULL|               NULL|          2003-11-25|           146|               Drama|           Hindi|         Yash Chopra|Yash Chopra,Gulsh...|     NULL|             NULL|    NULL|\n",
      "|crown_vs_stevens_...|   Crown vs. Stevens|           60|       NULL|  NULL|                NULL|               NULL|                NULL|            66|Crime, Drama, Mys...|         English|      Michael Powell|      Brock Williams|     NULL|             NULL|    NULL|\n",
      "|         1221483-paa|                 Paa|           67|         50|  NULL|                NULL|         2009-12-04|                NULL|           133|               Drama|           Hindi|            R. Balki|            R. Balki|  $199.2K|     Big Pictures|    NULL|\n",
      "|f9ab9165-598c-3ac...|A Tale of Love an...|         NULL|       NULL|  NULL|                NULL|               NULL|                NULL|           103|               Drama| French (France)|        Leyla Bouzid|        Leyla Bouzid|     NULL|             NULL|    NULL|\n",
      "|  the_last_gentleman|  The Last Gentleman|         NULL|       NULL|  NULL|                NULL|               NULL|                NULL|            80|              Comedy|         English|     Sidney Lanfield|                NULL|     NULL|             NULL|    NULL|\n",
      "+--------------------+--------------------+-------------+-----------+------+--------------------+-------------------+--------------------+--------------+--------------------+----------------+--------------------+--------------------+---------+-----------------+--------+\n",
      "only showing top 20 rows\n",
      "\n"
     ]
    }
   ],
   "source": [
    "df.show()"
   ]
  },
  {
   "cell_type": "code",
   "execution_count": 4,
   "id": "ed9c82e2-496b-4055-8a30-1f7c21151028",
   "metadata": {},
   "outputs": [
    {
     "name": "stdout",
     "output_type": "stream",
     "text": [
      "root\n",
      " |-- id: string (nullable = true)\n",
      " |-- title: string (nullable = true)\n",
      " |-- audienceScore: integer (nullable = true)\n",
      " |-- tomatoMeter: integer (nullable = true)\n",
      " |-- rating: string (nullable = true)\n",
      " |-- ratingContents: string (nullable = true)\n",
      " |-- releaseDateTheaters: date (nullable = true)\n",
      " |-- releaseDateStreaming: string (nullable = true)\n",
      " |-- runtimeMinutes: integer (nullable = true)\n",
      " |-- genre: string (nullable = true)\n",
      " |-- originalLanguage: string (nullable = true)\n",
      " |-- director: string (nullable = true)\n",
      " |-- writer: string (nullable = true)\n",
      " |-- boxOffice: string (nullable = true)\n",
      " |-- distributor: string (nullable = true)\n",
      " |-- soundMix: string (nullable = true)\n",
      "\n"
     ]
    }
   ],
   "source": [
    "#Table Schema\n",
    "df.printSchema()"
   ]
  },
  {
   "cell_type": "markdown",
   "id": "7d3ee6f0-ea4e-4a21-9c79-51bad6044f9d",
   "metadata": {},
   "source": [
    "#### Cleaning:\r\n",
    "Missing Values: Check for missing values in the audienceScore, tomatoMeter, and releaseDateTheaters columns. Handle them by removing rows with a null value in either of these columns\r\n"
   ]
  },
  {
   "cell_type": "code",
   "execution_count": 5,
   "id": "2d64b066-f4a2-42fc-9cc8-e573ad26f156",
   "metadata": {},
   "outputs": [
    {
     "data": {
      "text/plain": [
       "70010"
      ]
     },
     "execution_count": 5,
     "metadata": {},
     "output_type": "execute_result"
    }
   ],
   "source": [
    "#Method 1\n",
    "df.filter(F.col('audienceScore').isNull()).count()"
   ]
  },
  {
   "cell_type": "code",
   "execution_count": 6,
   "id": "a24182f6-4394-49cd-9866-2cb5b6a0ac58",
   "metadata": {},
   "outputs": [
    {
     "name": "stdout",
     "output_type": "stream",
     "text": [
      "+-------------+-----------+-------------------+\n",
      "|audienceScore|tomatoMeter|releaseDateTheaters|\n",
      "+-------------+-----------+-------------------+\n",
      "|           50|       NULL|               NULL|\n",
      "|         NULL|       NULL|               NULL|\n",
      "|           43|       NULL|               NULL|\n",
      "|           60|       NULL|               NULL|\n",
      "|           70|       NULL|               NULL|\n",
      "|           65|         69|         2018-06-01|\n",
      "|           55|       NULL|               NULL|\n",
      "|           88|       NULL|               NULL|\n",
      "|         NULL|       NULL|               NULL|\n",
      "|           74|         83|         1947-04-30|\n",
      "|           19|       NULL|               NULL|\n",
      "|         NULL|       NULL|               NULL|\n",
      "|         NULL|         76|         2002-03-22|\n",
      "|           86|         93|               NULL|\n",
      "|           89|       NULL|               NULL|\n",
      "|           82|       NULL|               NULL|\n",
      "|           60|       NULL|               NULL|\n",
      "|           67|         50|         2009-12-04|\n",
      "|         NULL|       NULL|               NULL|\n",
      "|         NULL|       NULL|               NULL|\n",
      "+-------------+-----------+-------------------+\n",
      "only showing top 20 rows\n",
      "\n"
     ]
    }
   ],
   "source": [
    "#Method 2\n",
    "df.select( [col for col in df.columns if col in ['audienceScore', 'tomatoMeter', 'releaseDateTheaters']] ).show()"
   ]
  },
  {
   "cell_type": "code",
   "execution_count": 7,
   "id": "c83e70d3-05ef-46b1-9f9c-2840b9a7c918",
   "metadata": {},
   "outputs": [
    {
     "name": "stdout",
     "output_type": "stream",
     "text": [
      "70010\n"
     ]
    }
   ],
   "source": [
    "audience_score_nulls = df.filter(df['audienceScore'].isNull()).count()\n",
    "print(audience_score_nulls)"
   ]
  },
  {
   "cell_type": "code",
   "execution_count": 8,
   "id": "abccbbc9-8861-4e5b-b5bf-eaaeafac02f7",
   "metadata": {},
   "outputs": [
    {
     "data": {
      "text/plain": [
       "109381"
      ]
     },
     "execution_count": 8,
     "metadata": {},
     "output_type": "execute_result"
    }
   ],
   "source": [
    "df.filter(F.col('tomatoMeter').isNull()).count()"
   ]
  },
  {
   "cell_type": "code",
   "execution_count": 9,
   "id": "c5116c8b-a234-454d-beae-baa3f74476b4",
   "metadata": {},
   "outputs": [
    {
     "data": {
      "text/plain": [
       "112485"
      ]
     },
     "execution_count": 9,
     "metadata": {},
     "output_type": "execute_result"
    }
   ],
   "source": [
    "df.filter(F.col('releaseDateTheaters').isNull()).count()"
   ]
  },
  {
   "cell_type": "code",
   "execution_count": 10,
   "id": "84001d9b-41af-49e6-bb15-9ff39ddf9ff6",
   "metadata": {},
   "outputs": [
    {
     "name": "stdout",
     "output_type": "stream",
     "text": [
      "+--------------------+--------------------+-------------+-----------+------+--------------------+-------------------+--------------------+--------------+--------------------+--------------------+--------------------+--------------------+---------+--------------------+--------------------+\n",
      "|                  id|               title|audienceScore|tomatoMeter|rating|      ratingContents|releaseDateTheaters|releaseDateStreaming|runtimeMinutes|               genre|    originalLanguage|            director|              writer|boxOffice|         distributor|            soundMix|\n",
      "+--------------------+--------------------+-------------+-----------+------+--------------------+-------------------+--------------------+--------------+--------------------+--------------------+--------------------+--------------------+---------+--------------------+--------------------+\n",
      "|         adrift_2018|              Adrift|           65|         69| PG-13|['Injury Images',...|         2018-06-01|          2018-08-21|           120|Adventure, Drama,...|             English|   Baltasar Kormákur|Aaron Kandell,Jor...|   $31.4M|           STX Films|                NULL|\n",
      "|1035316-born_to_kill|        Born to Kill|           74|         83|  NULL|                NULL|         1947-04-30|          2016-05-23|            92|        Crime, Drama|             English|         Robert Wise|Eve Greene,Richar...|     NULL|                NULL|                NULL|\n",
      "|         1221483-paa|                 Paa|           67|         50|  NULL|                NULL|         2009-12-04|                NULL|           133|               Drama|               Hindi|            R. Balki|            R. Balki|  $199.2K|        Big Pictures|                NULL|\n",
      "|sarah_palin_you_b...|Sarah Palin: You ...|           61|         32|  NULL|                NULL|         2011-09-30|          2017-03-08|            90|         Documentary|             English|Nick Broomfield,J...|                NULL|   $10.5K| Freestyle Releasing|                NULL|\n",
      "|a_state_of_mind_2005|     A State of Mind|           92|         89|  NULL|                NULL|         2005-08-10|          2007-06-11|            93|         Documentary|              Korean|       Daniel Gordon|                NULL|   $41.5K|       Kino Pictures|                NULL|\n",
      "|        gun_shy_2017|               Salty|           38|          0|     R|['Some Sexual Con...|         2017-09-08|          2017-11-07|            86|      Comedy, Action|English (United K...|          Simon West|Toby Davies,Mark ...|     NULL|         Saban Films|                NULL|\n",
      "|         johnny_cool|         Johnny Cool|           44|         50|  NULL|                NULL|         1963-10-02|          2011-06-27|           103|        Crime, Drama|             English|       William Asher|                NULL|     NULL|                NULL|                NULL|\n",
      "|        race_the_sun|        Race the Sun|           41|         22|  NULL|                NULL|         1996-03-22|          2002-04-30|            99|               Drama|             English| Charles T. Kanganis|                NULL|    $1.7M|                NULL|            Surround|\n",
      "| paul_blart_mall_cop|Paul Blart: Mall Cop|           43|         34|    PG|['Mild Crude Humo...|         2009-01-16|          2009-05-19|            91|              Comedy|             English|          Steve Carr|Kevin James,Nick ...|  $146.3M|Sony Pictures Ent...|                NULL|\n",
      "|not_without_my_da...|Not Without My Da...|           71|         53|  NULL|                NULL|         1991-01-11|          2001-10-02|           110|               Drama|             English|       Brian Gilbert|Betty Mahmoody,Wi...|   $14.0M|                NULL|            Surround|\n",
      "|     monsoon_wedding|     Monsoon Wedding|           87|         95|     R|['Some Sex Relate...|         2002-02-22|          2002-09-24|           100|       Comedy, Drama|             English|           Mira Nair|      Sabrina Dhawan|   $13.9M|           USA Films|Dolby Stereo, Dol...|\n",
      "|         violet_2017|              Violet|           56|         85|  NULL|                NULL|         2017-05-12|          2018-11-17|            82|               Drama|               Dutch|           Bas Devos|           Bas Devos|     NULL|Ryan Bruce Levey ...|                NULL|\n",
      "|small_town_wisconsin|Small Town Wisconsin|           88|         83|  NULL|                NULL|         2022-06-03|          2022-06-10|           109|       Comedy, Drama|             English|       Niels Mueller|        Jason Naczek|     NULL| Quiver Distribution|                NULL|\n",
      "|the_100_year_old_...|The 100-Year-Old ...|           69|         68|     R|['Some Violence',...|         2015-05-01|          2015-08-18|           114|   Comedy, Adventure|             Swedish|      Felix Herngren|Felix Herngren,Ha...|  $923.9K|     Music Box Films|                NULL|\n",
      "|  rookie_of_the_year|  Rookie of the Year|           52|         38|  NULL|                NULL|         1993-07-07|          2002-01-29|           103|Kids & family, Co...|             English|        Daniel Stern|          Sam Harper|   $53.1M|    20th Century Fox|                NULL|\n",
      "|       playback_2011|            Playback|           76|          0|     R|['Some Teen Party...|         2012-03-09|          2012-05-08|            98|Horror, Mystery &...|             English|  Michael A. Nickles|  Michael A. Nickles|     $252|   Magnolia Pictures|                NULL|\n",
      "|the_man_who_kille...|The Man Who Kille...|           60|         66|  NULL|                NULL|         2019-04-10|          2019-04-19|           133|   Comedy, Adventure|             English|       Terry Gilliam|Terry Gilliam,Ton...|  $392.0K|  Screen Media Films| SDDS, Dolby Digital|\n",
      "|      endless_poetry|      Endless Poetry|           80|         93|  NULL|                NULL|         2017-07-14|          2017-11-19|           128|           Biography|             Spanish|Alejandro Jodorowsky|Alejandro Jodorowsky|   $64.0K|    ABKCO Films Inc.|                NULL|\n",
      "|   uzumasa_limelight|   Uzumasa Limelight|           88|         91|  NULL|                NULL|         2014-12-05|          2016-08-10|           103|       Drama, Action|            Japanese|          Ken Ochiai|        Hiroyuki Ono|     NULL|         Eleven Arts|                NULL|\n",
      "|        freeze-frame|        Freeze Frame|           60|         71|     R|['Language', 'Str...|         2004-06-18|          2005-01-18|           100|  Mystery & thriller|             English|        John Simpson|        John Simpson|     NULL|          First Look|Surround, Dolby D...|\n",
      "+--------------------+--------------------+-------------+-----------+------+--------------------+-------------------+--------------------+--------------+--------------------+--------------------+--------------------+--------------------+---------+--------------------+--------------------+\n",
      "only showing top 20 rows\n",
      "\n"
     ]
    }
   ],
   "source": [
    "# Remove rows with nulls in particular columns\n",
    "df.na.drop(subset = ['audienceScore', 'tomatoMeter', 'releaseDateTheaters']).show()"
   ]
  },
  {
   "cell_type": "code",
   "execution_count": 11,
   "id": "433701de-d5e4-4d52-9c16-6b6f28f4b8dc",
   "metadata": {},
   "outputs": [],
   "source": [
    "cleaned_df = df.na.drop(subset = ['audienceScore', 'tomatoMeter', 'releaseDateTheaters'])"
   ]
  },
  {
   "cell_type": "code",
   "execution_count": 12,
   "id": "f75bc6d5-9736-4f65-ba8f-2bda73600531",
   "metadata": {},
   "outputs": [
    {
     "name": "stdout",
     "output_type": "stream",
     "text": [
      "+--------------------+--------------------+-------------+-----------+------+--------------------+-------------------+--------------------+--------------+--------------------+--------------------+--------------------+--------------------+---------+--------------------+--------------------+\n",
      "|                  id|               title|audienceScore|tomatoMeter|rating|      ratingContents|releaseDateTheaters|releaseDateStreaming|runtimeMinutes|               genre|    originalLanguage|            director|              writer|boxOffice|         distributor|            soundMix|\n",
      "+--------------------+--------------------+-------------+-----------+------+--------------------+-------------------+--------------------+--------------+--------------------+--------------------+--------------------+--------------------+---------+--------------------+--------------------+\n",
      "|         adrift_2018|              Adrift|           65|         69| PG-13|['Injury Images',...|         2018-06-01|          2018-08-21|           120|Adventure, Drama,...|             English|   Baltasar Kormákur|Aaron Kandell,Jor...|   $31.4M|           STX Films|                NULL|\n",
      "|1035316-born_to_kill|        Born to Kill|           74|         83|  NULL|                NULL|         1947-04-30|          2016-05-23|            92|        Crime, Drama|             English|         Robert Wise|Eve Greene,Richar...|     NULL|                NULL|                NULL|\n",
      "|         1221483-paa|                 Paa|           67|         50|  NULL|                NULL|         2009-12-04|                NULL|           133|               Drama|               Hindi|            R. Balki|            R. Balki|  $199.2K|        Big Pictures|                NULL|\n",
      "|sarah_palin_you_b...|Sarah Palin: You ...|           61|         32|  NULL|                NULL|         2011-09-30|          2017-03-08|            90|         Documentary|             English|Nick Broomfield,J...|                NULL|   $10.5K| Freestyle Releasing|                NULL|\n",
      "|a_state_of_mind_2005|     A State of Mind|           92|         89|  NULL|                NULL|         2005-08-10|          2007-06-11|            93|         Documentary|              Korean|       Daniel Gordon|                NULL|   $41.5K|       Kino Pictures|                NULL|\n",
      "|        gun_shy_2017|               Salty|           38|          0|     R|['Some Sexual Con...|         2017-09-08|          2017-11-07|            86|      Comedy, Action|English (United K...|          Simon West|Toby Davies,Mark ...|     NULL|         Saban Films|                NULL|\n",
      "|         johnny_cool|         Johnny Cool|           44|         50|  NULL|                NULL|         1963-10-02|          2011-06-27|           103|        Crime, Drama|             English|       William Asher|                NULL|     NULL|                NULL|                NULL|\n",
      "|        race_the_sun|        Race the Sun|           41|         22|  NULL|                NULL|         1996-03-22|          2002-04-30|            99|               Drama|             English| Charles T. Kanganis|                NULL|    $1.7M|                NULL|            Surround|\n",
      "| paul_blart_mall_cop|Paul Blart: Mall Cop|           43|         34|    PG|['Mild Crude Humo...|         2009-01-16|          2009-05-19|            91|              Comedy|             English|          Steve Carr|Kevin James,Nick ...|  $146.3M|Sony Pictures Ent...|                NULL|\n",
      "|not_without_my_da...|Not Without My Da...|           71|         53|  NULL|                NULL|         1991-01-11|          2001-10-02|           110|               Drama|             English|       Brian Gilbert|Betty Mahmoody,Wi...|   $14.0M|                NULL|            Surround|\n",
      "|     monsoon_wedding|     Monsoon Wedding|           87|         95|     R|['Some Sex Relate...|         2002-02-22|          2002-09-24|           100|       Comedy, Drama|             English|           Mira Nair|      Sabrina Dhawan|   $13.9M|           USA Films|Dolby Stereo, Dol...|\n",
      "|         violet_2017|              Violet|           56|         85|  NULL|                NULL|         2017-05-12|          2018-11-17|            82|               Drama|               Dutch|           Bas Devos|           Bas Devos|     NULL|Ryan Bruce Levey ...|                NULL|\n",
      "|small_town_wisconsin|Small Town Wisconsin|           88|         83|  NULL|                NULL|         2022-06-03|          2022-06-10|           109|       Comedy, Drama|             English|       Niels Mueller|        Jason Naczek|     NULL| Quiver Distribution|                NULL|\n",
      "|the_100_year_old_...|The 100-Year-Old ...|           69|         68|     R|['Some Violence',...|         2015-05-01|          2015-08-18|           114|   Comedy, Adventure|             Swedish|      Felix Herngren|Felix Herngren,Ha...|  $923.9K|     Music Box Films|                NULL|\n",
      "|  rookie_of_the_year|  Rookie of the Year|           52|         38|  NULL|                NULL|         1993-07-07|          2002-01-29|           103|Kids & family, Co...|             English|        Daniel Stern|          Sam Harper|   $53.1M|    20th Century Fox|                NULL|\n",
      "|       playback_2011|            Playback|           76|          0|     R|['Some Teen Party...|         2012-03-09|          2012-05-08|            98|Horror, Mystery &...|             English|  Michael A. Nickles|  Michael A. Nickles|     $252|   Magnolia Pictures|                NULL|\n",
      "|the_man_who_kille...|The Man Who Kille...|           60|         66|  NULL|                NULL|         2019-04-10|          2019-04-19|           133|   Comedy, Adventure|             English|       Terry Gilliam|Terry Gilliam,Ton...|  $392.0K|  Screen Media Films| SDDS, Dolby Digital|\n",
      "|      endless_poetry|      Endless Poetry|           80|         93|  NULL|                NULL|         2017-07-14|          2017-11-19|           128|           Biography|             Spanish|Alejandro Jodorowsky|Alejandro Jodorowsky|   $64.0K|    ABKCO Films Inc.|                NULL|\n",
      "|   uzumasa_limelight|   Uzumasa Limelight|           88|         91|  NULL|                NULL|         2014-12-05|          2016-08-10|           103|       Drama, Action|            Japanese|          Ken Ochiai|        Hiroyuki Ono|     NULL|         Eleven Arts|                NULL|\n",
      "|        freeze-frame|        Freeze Frame|           60|         71|     R|['Language', 'Str...|         2004-06-18|          2005-01-18|           100|  Mystery & thriller|             English|        John Simpson|        John Simpson|     NULL|          First Look|Surround, Dolby D...|\n",
      "+--------------------+--------------------+-------------+-----------+------+--------------------+-------------------+--------------------+--------------+--------------------+--------------------+--------------------+--------------------+---------+--------------------+--------------------+\n",
      "only showing top 20 rows\n",
      "\n"
     ]
    }
   ],
   "source": [
    "cleaned_df.show()"
   ]
  },
  {
   "cell_type": "code",
   "execution_count": 13,
   "id": "8fb85271-588f-4889-b757-4a528bc2b712",
   "metadata": {},
   "outputs": [],
   "source": [
    "#method 2\n",
    "clean_df = df.dropna(subset = ['audienceScore', 'tomatoMeter', 'releaseDateTheaters'])"
   ]
  },
  {
   "cell_type": "code",
   "execution_count": 14,
   "id": "35242a87-8dc9-4cfa-844b-4d3e2668bad0",
   "metadata": {},
   "outputs": [
    {
     "name": "stdout",
     "output_type": "stream",
     "text": [
      "+--------------------+--------------------+-------------+-----------+------+--------------------+-------------------+--------------------+--------------+--------------------+--------------------+--------------------+--------------------+---------+--------------------+--------------------+\n",
      "|                  id|               title|audienceScore|tomatoMeter|rating|      ratingContents|releaseDateTheaters|releaseDateStreaming|runtimeMinutes|               genre|    originalLanguage|            director|              writer|boxOffice|         distributor|            soundMix|\n",
      "+--------------------+--------------------+-------------+-----------+------+--------------------+-------------------+--------------------+--------------+--------------------+--------------------+--------------------+--------------------+---------+--------------------+--------------------+\n",
      "|         adrift_2018|              Adrift|           65|         69| PG-13|['Injury Images',...|         2018-06-01|          2018-08-21|           120|Adventure, Drama,...|             English|   Baltasar Kormákur|Aaron Kandell,Jor...|   $31.4M|           STX Films|                NULL|\n",
      "|1035316-born_to_kill|        Born to Kill|           74|         83|  NULL|                NULL|         1947-04-30|          2016-05-23|            92|        Crime, Drama|             English|         Robert Wise|Eve Greene,Richar...|     NULL|                NULL|                NULL|\n",
      "|         1221483-paa|                 Paa|           67|         50|  NULL|                NULL|         2009-12-04|                NULL|           133|               Drama|               Hindi|            R. Balki|            R. Balki|  $199.2K|        Big Pictures|                NULL|\n",
      "|sarah_palin_you_b...|Sarah Palin: You ...|           61|         32|  NULL|                NULL|         2011-09-30|          2017-03-08|            90|         Documentary|             English|Nick Broomfield,J...|                NULL|   $10.5K| Freestyle Releasing|                NULL|\n",
      "|a_state_of_mind_2005|     A State of Mind|           92|         89|  NULL|                NULL|         2005-08-10|          2007-06-11|            93|         Documentary|              Korean|       Daniel Gordon|                NULL|   $41.5K|       Kino Pictures|                NULL|\n",
      "|        gun_shy_2017|               Salty|           38|          0|     R|['Some Sexual Con...|         2017-09-08|          2017-11-07|            86|      Comedy, Action|English (United K...|          Simon West|Toby Davies,Mark ...|     NULL|         Saban Films|                NULL|\n",
      "|         johnny_cool|         Johnny Cool|           44|         50|  NULL|                NULL|         1963-10-02|          2011-06-27|           103|        Crime, Drama|             English|       William Asher|                NULL|     NULL|                NULL|                NULL|\n",
      "|        race_the_sun|        Race the Sun|           41|         22|  NULL|                NULL|         1996-03-22|          2002-04-30|            99|               Drama|             English| Charles T. Kanganis|                NULL|    $1.7M|                NULL|            Surround|\n",
      "| paul_blart_mall_cop|Paul Blart: Mall Cop|           43|         34|    PG|['Mild Crude Humo...|         2009-01-16|          2009-05-19|            91|              Comedy|             English|          Steve Carr|Kevin James,Nick ...|  $146.3M|Sony Pictures Ent...|                NULL|\n",
      "|not_without_my_da...|Not Without My Da...|           71|         53|  NULL|                NULL|         1991-01-11|          2001-10-02|           110|               Drama|             English|       Brian Gilbert|Betty Mahmoody,Wi...|   $14.0M|                NULL|            Surround|\n",
      "|     monsoon_wedding|     Monsoon Wedding|           87|         95|     R|['Some Sex Relate...|         2002-02-22|          2002-09-24|           100|       Comedy, Drama|             English|           Mira Nair|      Sabrina Dhawan|   $13.9M|           USA Films|Dolby Stereo, Dol...|\n",
      "|         violet_2017|              Violet|           56|         85|  NULL|                NULL|         2017-05-12|          2018-11-17|            82|               Drama|               Dutch|           Bas Devos|           Bas Devos|     NULL|Ryan Bruce Levey ...|                NULL|\n",
      "|small_town_wisconsin|Small Town Wisconsin|           88|         83|  NULL|                NULL|         2022-06-03|          2022-06-10|           109|       Comedy, Drama|             English|       Niels Mueller|        Jason Naczek|     NULL| Quiver Distribution|                NULL|\n",
      "|the_100_year_old_...|The 100-Year-Old ...|           69|         68|     R|['Some Violence',...|         2015-05-01|          2015-08-18|           114|   Comedy, Adventure|             Swedish|      Felix Herngren|Felix Herngren,Ha...|  $923.9K|     Music Box Films|                NULL|\n",
      "|  rookie_of_the_year|  Rookie of the Year|           52|         38|  NULL|                NULL|         1993-07-07|          2002-01-29|           103|Kids & family, Co...|             English|        Daniel Stern|          Sam Harper|   $53.1M|    20th Century Fox|                NULL|\n",
      "|       playback_2011|            Playback|           76|          0|     R|['Some Teen Party...|         2012-03-09|          2012-05-08|            98|Horror, Mystery &...|             English|  Michael A. Nickles|  Michael A. Nickles|     $252|   Magnolia Pictures|                NULL|\n",
      "|the_man_who_kille...|The Man Who Kille...|           60|         66|  NULL|                NULL|         2019-04-10|          2019-04-19|           133|   Comedy, Adventure|             English|       Terry Gilliam|Terry Gilliam,Ton...|  $392.0K|  Screen Media Films| SDDS, Dolby Digital|\n",
      "|      endless_poetry|      Endless Poetry|           80|         93|  NULL|                NULL|         2017-07-14|          2017-11-19|           128|           Biography|             Spanish|Alejandro Jodorowsky|Alejandro Jodorowsky|   $64.0K|    ABKCO Films Inc.|                NULL|\n",
      "|   uzumasa_limelight|   Uzumasa Limelight|           88|         91|  NULL|                NULL|         2014-12-05|          2016-08-10|           103|       Drama, Action|            Japanese|          Ken Ochiai|        Hiroyuki Ono|     NULL|         Eleven Arts|                NULL|\n",
      "|        freeze-frame|        Freeze Frame|           60|         71|     R|['Language', 'Str...|         2004-06-18|          2005-01-18|           100|  Mystery & thriller|             English|        John Simpson|        John Simpson|     NULL|          First Look|Surround, Dolby D...|\n",
      "+--------------------+--------------------+-------------+-----------+------+--------------------+-------------------+--------------------+--------------+--------------------+--------------------+--------------------+--------------------+---------+--------------------+--------------------+\n",
      "only showing top 20 rows\n",
      "\n"
     ]
    }
   ],
   "source": [
    "clean_df.show()"
   ]
  },
  {
   "cell_type": "markdown",
   "id": "54890126-56e6-4eda-979d-04fa28b3a074",
   "metadata": {},
   "source": [
    "### Processing:\r\n",
    "Year: Create a year column by parsing the year from the releaseDateTheaters column.\r\n"
   ]
  },
  {
   "cell_type": "code",
   "execution_count": 15,
   "id": "afa5b50a-5fc2-4752-a50e-a8b3cb1132ae",
   "metadata": {},
   "outputs": [
    {
     "name": "stdout",
     "output_type": "stream",
     "text": [
      "+-------------------+\n",
      "|releaseDateTheaters|\n",
      "+-------------------+\n",
      "|         2018-06-01|\n",
      "|         1947-04-30|\n",
      "|         2009-12-04|\n",
      "|         2011-09-30|\n",
      "|         2005-08-10|\n",
      "|         2017-09-08|\n",
      "|         1963-10-02|\n",
      "|         1996-03-22|\n",
      "|         2009-01-16|\n",
      "|         1991-01-11|\n",
      "|         2002-02-22|\n",
      "|         2017-05-12|\n",
      "|         2022-06-03|\n",
      "|         2015-05-01|\n",
      "|         1993-07-07|\n",
      "|         2012-03-09|\n",
      "|         2019-04-10|\n",
      "|         2017-07-14|\n",
      "|         2014-12-05|\n",
      "|         2004-06-18|\n",
      "+-------------------+\n",
      "only showing top 20 rows\n",
      "\n"
     ]
    }
   ],
   "source": [
    "clean_df.select(F.col('releaseDateTheaters')).show()"
   ]
  },
  {
   "cell_type": "code",
   "execution_count": 16,
   "id": "1c3b01cb-e4a0-4eb4-816f-14926173fe74",
   "metadata": {},
   "outputs": [],
   "source": [
    "df_new = clean_df.withColumn('year', F.year(df['releaseDateTheaters']))"
   ]
  },
  {
   "cell_type": "code",
   "execution_count": 17,
   "id": "bfc4b309-e0bc-4bc8-862d-9e446b2b43ae",
   "metadata": {},
   "outputs": [
    {
     "name": "stdout",
     "output_type": "stream",
     "text": [
      "+--------------------+--------------------+-------------+-----------+------+--------------------+-------------------+--------------------+--------------+--------------------+--------------------+--------------------+--------------------+---------+--------------------+--------------------+----+\n",
      "|                  id|               title|audienceScore|tomatoMeter|rating|      ratingContents|releaseDateTheaters|releaseDateStreaming|runtimeMinutes|               genre|    originalLanguage|            director|              writer|boxOffice|         distributor|            soundMix|year|\n",
      "+--------------------+--------------------+-------------+-----------+------+--------------------+-------------------+--------------------+--------------+--------------------+--------------------+--------------------+--------------------+---------+--------------------+--------------------+----+\n",
      "|         adrift_2018|              Adrift|           65|         69| PG-13|['Injury Images',...|         2018-06-01|          2018-08-21|           120|Adventure, Drama,...|             English|   Baltasar Kormákur|Aaron Kandell,Jor...|   $31.4M|           STX Films|                NULL|2018|\n",
      "|1035316-born_to_kill|        Born to Kill|           74|         83|  NULL|                NULL|         1947-04-30|          2016-05-23|            92|        Crime, Drama|             English|         Robert Wise|Eve Greene,Richar...|     NULL|                NULL|                NULL|1947|\n",
      "|         1221483-paa|                 Paa|           67|         50|  NULL|                NULL|         2009-12-04|                NULL|           133|               Drama|               Hindi|            R. Balki|            R. Balki|  $199.2K|        Big Pictures|                NULL|2009|\n",
      "|sarah_palin_you_b...|Sarah Palin: You ...|           61|         32|  NULL|                NULL|         2011-09-30|          2017-03-08|            90|         Documentary|             English|Nick Broomfield,J...|                NULL|   $10.5K| Freestyle Releasing|                NULL|2011|\n",
      "|a_state_of_mind_2005|     A State of Mind|           92|         89|  NULL|                NULL|         2005-08-10|          2007-06-11|            93|         Documentary|              Korean|       Daniel Gordon|                NULL|   $41.5K|       Kino Pictures|                NULL|2005|\n",
      "|        gun_shy_2017|               Salty|           38|          0|     R|['Some Sexual Con...|         2017-09-08|          2017-11-07|            86|      Comedy, Action|English (United K...|          Simon West|Toby Davies,Mark ...|     NULL|         Saban Films|                NULL|2017|\n",
      "|         johnny_cool|         Johnny Cool|           44|         50|  NULL|                NULL|         1963-10-02|          2011-06-27|           103|        Crime, Drama|             English|       William Asher|                NULL|     NULL|                NULL|                NULL|1963|\n",
      "|        race_the_sun|        Race the Sun|           41|         22|  NULL|                NULL|         1996-03-22|          2002-04-30|            99|               Drama|             English| Charles T. Kanganis|                NULL|    $1.7M|                NULL|            Surround|1996|\n",
      "| paul_blart_mall_cop|Paul Blart: Mall Cop|           43|         34|    PG|['Mild Crude Humo...|         2009-01-16|          2009-05-19|            91|              Comedy|             English|          Steve Carr|Kevin James,Nick ...|  $146.3M|Sony Pictures Ent...|                NULL|2009|\n",
      "|not_without_my_da...|Not Without My Da...|           71|         53|  NULL|                NULL|         1991-01-11|          2001-10-02|           110|               Drama|             English|       Brian Gilbert|Betty Mahmoody,Wi...|   $14.0M|                NULL|            Surround|1991|\n",
      "|     monsoon_wedding|     Monsoon Wedding|           87|         95|     R|['Some Sex Relate...|         2002-02-22|          2002-09-24|           100|       Comedy, Drama|             English|           Mira Nair|      Sabrina Dhawan|   $13.9M|           USA Films|Dolby Stereo, Dol...|2002|\n",
      "|         violet_2017|              Violet|           56|         85|  NULL|                NULL|         2017-05-12|          2018-11-17|            82|               Drama|               Dutch|           Bas Devos|           Bas Devos|     NULL|Ryan Bruce Levey ...|                NULL|2017|\n",
      "|small_town_wisconsin|Small Town Wisconsin|           88|         83|  NULL|                NULL|         2022-06-03|          2022-06-10|           109|       Comedy, Drama|             English|       Niels Mueller|        Jason Naczek|     NULL| Quiver Distribution|                NULL|2022|\n",
      "|the_100_year_old_...|The 100-Year-Old ...|           69|         68|     R|['Some Violence',...|         2015-05-01|          2015-08-18|           114|   Comedy, Adventure|             Swedish|      Felix Herngren|Felix Herngren,Ha...|  $923.9K|     Music Box Films|                NULL|2015|\n",
      "|  rookie_of_the_year|  Rookie of the Year|           52|         38|  NULL|                NULL|         1993-07-07|          2002-01-29|           103|Kids & family, Co...|             English|        Daniel Stern|          Sam Harper|   $53.1M|    20th Century Fox|                NULL|1993|\n",
      "|       playback_2011|            Playback|           76|          0|     R|['Some Teen Party...|         2012-03-09|          2012-05-08|            98|Horror, Mystery &...|             English|  Michael A. Nickles|  Michael A. Nickles|     $252|   Magnolia Pictures|                NULL|2012|\n",
      "|the_man_who_kille...|The Man Who Kille...|           60|         66|  NULL|                NULL|         2019-04-10|          2019-04-19|           133|   Comedy, Adventure|             English|       Terry Gilliam|Terry Gilliam,Ton...|  $392.0K|  Screen Media Films| SDDS, Dolby Digital|2019|\n",
      "|      endless_poetry|      Endless Poetry|           80|         93|  NULL|                NULL|         2017-07-14|          2017-11-19|           128|           Biography|             Spanish|Alejandro Jodorowsky|Alejandro Jodorowsky|   $64.0K|    ABKCO Films Inc.|                NULL|2017|\n",
      "|   uzumasa_limelight|   Uzumasa Limelight|           88|         91|  NULL|                NULL|         2014-12-05|          2016-08-10|           103|       Drama, Action|            Japanese|          Ken Ochiai|        Hiroyuki Ono|     NULL|         Eleven Arts|                NULL|2014|\n",
      "|        freeze-frame|        Freeze Frame|           60|         71|     R|['Language', 'Str...|         2004-06-18|          2005-01-18|           100|  Mystery & thriller|             English|        John Simpson|        John Simpson|     NULL|          First Look|Surround, Dolby D...|2004|\n",
      "+--------------------+--------------------+-------------+-----------+------+--------------------+-------------------+--------------------+--------------+--------------------+--------------------+--------------------+--------------------+---------+--------------------+--------------------+----+\n",
      "only showing top 20 rows\n",
      "\n"
     ]
    }
   ],
   "source": [
    "df_new.show()"
   ]
  },
  {
   "cell_type": "markdown",
   "id": "9933f214-6ea3-4b34-9a13-8f22a972b543",
   "metadata": {},
   "source": [
    "Top Movies: Find the top 500 movies based on Tomatometer score using functions like orderBy and limit.\r\n"
   ]
  },
  {
   "cell_type": "code",
   "execution_count": 18,
   "id": "52ae5a58-d30a-48c4-8963-a8afa5f51d84",
   "metadata": {},
   "outputs": [],
   "source": [
    "df_top5000 = df_new.orderBy(F.desc('tomatoMeter')).limit(5000)"
   ]
  },
  {
   "cell_type": "code",
   "execution_count": 19,
   "id": "38c18035-db64-4d17-9835-8a4a49f4a8c2",
   "metadata": {},
   "outputs": [
    {
     "name": "stdout",
     "output_type": "stream",
     "text": [
      "+--------------------+--------------------+-------------+-----------+------+--------------+-------------------+--------------------+--------------+--------------------+--------------------+--------------------+--------------------+---------+--------------------+-----------+----+\n",
      "|                  id|               title|audienceScore|tomatoMeter|rating|ratingContents|releaseDateTheaters|releaseDateStreaming|runtimeMinutes|               genre|    originalLanguage|            director|              writer|boxOffice|         distributor|   soundMix|year|\n",
      "+--------------------+--------------------+-------------+-----------+------+--------------+-------------------+--------------------+--------------+--------------------+--------------------+--------------------+--------------------+---------+--------------------+-----------+----+\n",
      "|     the_human_trial|     The Human Trial|           99|        100|  NULL|          NULL|         2022-06-24|          2022-06-24|            91|         Documentary|             English|Lisa Hepner,Guy M...|         Lisa Hepner|     NULL|          Abramorama|       NULL|2022|\n",
      "|   the_monkey_king_2|   The Monkey King 2|           52|        100|  NULL|          NULL|         2016-02-05|          2017-01-03|           119|Fantasy, Adventur...|             Chinese|      Pou-Soi Cheang|                NULL|  $709.6K|China Lion Film D...|Dolby Atmos|2016|\n",
      "|1197811-ballet_shoes|        Ballet Shoes|           66|        100|    PG|   ['Smoking']|         2008-08-26|          2008-09-02|            90|               Drama|             English|   Sandra Goldbacher|        Heidi Thomas|     NULL|Screenvision, Koc...|       NULL|2008|\n",
      "|         blue_dahlia|     The Blue Dahlia|           71|        100|  NULL|          NULL|         1946-04-18|          2014-11-04|            96|        Crime, Drama|             English|     George Marshall|    Raymond Chandler|     NULL|  Paramount Pictures|       Mono|1946|\n",
      "|  singin_in_the_rain| Singin' in the Rain|           95|        100|  NULL|          NULL|         1952-04-10|          2002-09-24|           102|     Musical, Comedy|             English|Stanley Donen,Gen...|Betty Comden,Adol...|   $23.9K| Metro-Goldwyn-Mayer|       Mono|1952|\n",
      "|this_much_i_know_...|This Much I Know ...|           96|        100|  NULL|          NULL|         2022-05-11|                NULL|           105|  Documentary, Music|English (United K...|      Andrew Dominik|                NULL|     NULL| Trafalgar Releasing|       NULL|2022|\n",
      "|             pitfall|             Pitfall|           67|        100|  NULL|          NULL|         1948-08-24|          2012-11-20|            84|               Drama|             English|       Andre de Toth|           Karl Kamb|     NULL|      United Artists|       NULL|1948|\n",
      "|the_sunshine_make...| The Sunshine Makers|           74|        100|  NULL|          NULL|         2017-01-20|          2017-02-02|            90|         Documentary|English (United K...|Cosmo Feilding-Me...|Cosmo Feilding-Me...|    $9.9K|            FilmRise|       NULL|2017|\n",
      "|             mclibel|             McLibel|           69|        100|  NULL|          NULL|         2005-04-09|          2010-09-14|            84|         Documentary|English (United K...|    Franny Armstrong|                NULL|    $4.3K|                NULL|       NULL|2005|\n",
      "|the_waiting_room_...|    The Waiting Room|           76|        100|  NULL|          NULL|         2012-09-26|          2013-10-22|            81|         Documentary|             English|         Peter Nicks|                NULL|  $244.1K|International Fil...|       NULL|2012|\n",
      "|when_father_was_a...|When Father Was A...|           91|        100|  NULL|          NULL|         1985-10-11|          2005-05-24|           145|       Comedy, Drama|           Hungarian|      Emir Kusturica|                NULL|     NULL|Cannon Film Distr...|       NULL|1985|\n",
      "|              ju_dou|              Ju Dou|           88|        100|  NULL|          NULL|         1990-03-06|          2007-07-02|            98|               Drama|             Chinese|         Yimou Zhang|                NULL|   $10.3K|       Miramax Films|   Surround|1990|\n",
      "|    say_your_prayers|    Say Your Prayers|           47|        100|  NULL|          NULL|         2021-04-02|          2021-04-02|            84|              Comedy|English (United K...|       Harry Michell|Jamie Fraser,Harr...|     NULL|   Gravitas Ventures|       NULL|2021|\n",
      "|           los_reyes|           Los Reyes|           67|        100|  NULL|          NULL|         2019-08-14|          2020-06-30|            78|         Documentary|             Spanish|Iván Osnovikoff,B...|                NULL|     NULL|    Grasshopper Film|       NULL|2019|\n",
      "|sometimes_a_great...|Sometimes a Great...|           77|        100|  NULL|          NULL|         1972-01-19|          2011-01-31|           114|               Drama|             English|         Paul Newman|            John Gay|     NULL|  Universal Pictures|     Stereo|1972|\n",
      "|the_man_from_plan...|The Man From Plan...|           38|        100|  NULL|          NULL|         1951-04-27|          2001-02-20|            70|              Sci-fi|             English|      Edgar G. Ulmer|Aubrey Wisberg,Ja...|     NULL|      United Artists|       Mono|1951|\n",
      "|         at_the_fork|         At the Fork|           75|        100|  NULL|          NULL|         2016-07-13|          2016-12-29|            89|         Documentary|             English|         John Papola|Cristina Colissim...|     NULL|      Emergent Order|       NULL|2016|\n",
      "|          con-artist|          Con Artist|           86|        100|  NULL|          NULL|         2010-11-12|          2011-06-14|            84|         Documentary|             English|      Michael Sladek|                NULL|     NULL|                NULL|       NULL|2010|\n",
      "|      lacombe_lucien|     Lacombe, Lucien|           85|        100|  NULL|          NULL|         1974-01-30|          2006-03-28|           135|               Drama|     French (Canada)|         Louis Malle|Louis Malle,Patri...|     NULL|                NULL|       NULL|1974|\n",
      "|             tampopo|             Tampopo|           93|        100|  NULL|          NULL|         1986-09-01|          2017-04-25|           114|              Comedy|            Japanese|          Juzo Itami|          Juzo Itami|  $224.1K|    New Yorker Films|      Dolby|1986|\n",
      "+--------------------+--------------------+-------------+-----------+------+--------------+-------------------+--------------------+--------------+--------------------+--------------------+--------------------+--------------------+---------+--------------------+-----------+----+\n",
      "only showing top 20 rows\n",
      "\n"
     ]
    }
   ],
   "source": [
    "df_top5000.show()"
   ]
  },
  {
   "cell_type": "markdown",
   "id": "1fe13099-e0c3-4c55-b5a2-c43b8a01b8c9",
   "metadata": {},
   "source": [
    "### Save as Parquet: \r\n",
    "Save the cleaned and processed data as a Parquet file for efficient loading into Pandas or Power BI. PySpark offers Parquet data support\r\n"
   ]
  },
  {
   "cell_type": "code",
   "execution_count": 20,
   "id": "bebff291-6ea4-4765-8896-2f72c0110c84",
   "metadata": {},
   "outputs": [],
   "source": [
    "df_top5000.write.parquet('top5000_movies.parquet', mode='overwrite')"
   ]
  },
  {
   "cell_type": "code",
   "execution_count": 21,
   "id": "b6879130-ebf4-4176-b255-5a646f360f3d",
   "metadata": {},
   "outputs": [],
   "source": [
    "df_top5000.write.csv('top5000_movies.csv', mode='overwrite')"
   ]
  },
  {
   "cell_type": "markdown",
   "id": "cd48347b-649f-4bb4-9905-f171414647cb",
   "metadata": {},
   "source": [
    "### Converting to pandas df"
   ]
  },
  {
   "cell_type": "code",
   "execution_count": 22,
   "id": "2faa51d3-a9c1-4dec-929b-2923e3b19f5f",
   "metadata": {},
   "outputs": [],
   "source": [
    "pandas_df =df_top5000.toPandas()"
   ]
  },
  {
   "cell_type": "code",
   "execution_count": 23,
   "id": "b342a597-aa5a-4f3f-844f-6913b5dec75b",
   "metadata": {},
   "outputs": [],
   "source": [
    "pandas_df.to_csv('top5000_movies_pandas.csv', index = False)"
   ]
  },
  {
   "cell_type": "markdown",
   "id": "6c09d67a-b307-4670-9cbb-e39c072f98f0",
   "metadata": {},
   "source": [
    "### Extended Challenges"
   ]
  },
  {
   "cell_type": "code",
   "execution_count": 24,
   "id": "2ff8f92f-b507-44a9-9d6c-2325e4d66b36",
   "metadata": {},
   "outputs": [],
   "source": [
    "# df_bo= df_top5000.select(F.translate(F.col('boxOffice'), '[$]', '').alias('BoxOffice'))\n",
    "# df_bo.show()"
   ]
  },
  {
   "cell_type": "code",
   "execution_count": null,
   "id": "f81c6456-89d7-4d0a-8714-b6853c236c93",
   "metadata": {},
   "outputs": [],
   "source": []
  }
 ],
 "metadata": {
  "kernelspec": {
   "display_name": "Python 3 (ipykernel)",
   "language": "python",
   "name": "python3"
  },
  "language_info": {
   "codemirror_mode": {
    "name": "ipython",
    "version": 3
   },
   "file_extension": ".py",
   "mimetype": "text/x-python",
   "name": "python",
   "nbconvert_exporter": "python",
   "pygments_lexer": "ipython3",
   "version": "3.11.6"
  }
 },
 "nbformat": 4,
 "nbformat_minor": 5
}
