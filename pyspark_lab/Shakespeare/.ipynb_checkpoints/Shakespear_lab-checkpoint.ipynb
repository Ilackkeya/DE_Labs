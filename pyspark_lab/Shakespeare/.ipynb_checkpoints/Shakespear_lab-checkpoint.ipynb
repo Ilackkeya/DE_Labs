{
 "cells": [
  {
   "cell_type": "code",
   "execution_count": 1,
   "id": "0e950eb9-b492-42e1-806e-88ff161dfbae",
   "metadata": {},
   "outputs": [],
   "source": [
    "from pyspark.sql import SparkSession\n",
    "import pyspark.sql.functions as F\n",
    "from pyspark.sql.types import DecimalType\n",
    "from pyspark import SparkFiles\n",
    "\n",
    "#Initialize a SparkSession\n",
    "spark = SparkSession.builder.appName(\"Shakespeare\").getOrCreate()"
   ]
  },
  {
   "cell_type": "markdown",
   "id": "945a8df4-c7e1-4768-896c-6355072bd610",
   "metadata": {},
   "source": [
    "### Romeo and Juliet"
   ]
  },
  {
   "cell_type": "code",
   "execution_count": 2,
   "id": "b6069052-29a3-4431-83b2-0ac0ede4b93a",
   "metadata": {},
   "outputs": [],
   "source": [
    "#Ingest url\n",
    "url = 'https://www.gutenberg.org/cache/epub/1513/pg1513.txt'\n",
    "\n",
    "# #Downloads speech onto each node\n",
    "spark.sparkContext.addFile(url)\n",
    "\n",
    "rj = spark.read.text(SparkFiles.get('pg1513.txt'))\n",
    "rj_df = rj.select(F.explode(F.split(F.col('value'), '[\\s\\.\\,\\!\\?\\;\\_\\[\\]\\(\\)\\\"\\'\\-\\{\\}\\:\\<\\>\\*\\@\\~\\`\\%\\^\\&\\”\\“\\—\\•\\’\\‘\\#\\$\\0-9]+')).alias('word'))\n",
    "rj_df = rj_df.filter(rj_df.word != '')\n",
    "rj_df = rj_df.withColumn(\"play\",F.lit(\"Romeo and Juliet\"))"
   ]
  },
  {
   "cell_type": "code",
   "execution_count": 3,
   "id": "726f6fa2-e06c-4640-95e9-051fd1bdff4e",
   "metadata": {},
   "outputs": [
    {
     "name": "stdout",
     "output_type": "stream",
     "text": [
      "+---------+----------------+\n",
      "|     word|            play|\n",
      "+---------+----------------+\n",
      "|      The|Romeo and Juliet|\n",
      "|  Project|Romeo and Juliet|\n",
      "|Gutenberg|Romeo and Juliet|\n",
      "|    eBook|Romeo and Juliet|\n",
      "|       of|Romeo and Juliet|\n",
      "|    Romeo|Romeo and Juliet|\n",
      "|      and|Romeo and Juliet|\n",
      "|   Juliet|Romeo and Juliet|\n",
      "|     This|Romeo and Juliet|\n",
      "|    ebook|Romeo and Juliet|\n",
      "|       is|Romeo and Juliet|\n",
      "|      for|Romeo and Juliet|\n",
      "|      the|Romeo and Juliet|\n",
      "|      use|Romeo and Juliet|\n",
      "|       of|Romeo and Juliet|\n",
      "|   anyone|Romeo and Juliet|\n",
      "| anywhere|Romeo and Juliet|\n",
      "|       in|Romeo and Juliet|\n",
      "|      the|Romeo and Juliet|\n",
      "|   United|Romeo and Juliet|\n",
      "+---------+----------------+\n",
      "only showing top 20 rows\n",
      "\n"
     ]
    }
   ],
   "source": [
    "rj_df.show()"
   ]
  },
  {
   "cell_type": "markdown",
   "id": "99f3929b-a2cb-486b-8e93-dc86133729d9",
   "metadata": {},
   "source": [
    "### The Tempest"
   ]
  },
  {
   "cell_type": "code",
   "execution_count": 4,
   "id": "0b8acf71-7dd7-4e19-9ddd-6c7d65dcac3b",
   "metadata": {},
   "outputs": [],
   "source": [
    "#Ingest url\n",
    "url = 'https://www.gutenberg.org/cache/epub/23042/pg23042.txt'\n",
    "\n",
    "# #Downloads speech onto each node\n",
    "spark.sparkContext.addFile(url)\n",
    "\n",
    "tempest = spark.read.text(SparkFiles.get('pg23042.txt'))\n",
    "tempest_df = tempest.select(F.explode(F.split(F.col('value'), '[\\s\\.\\,\\!\\?\\;\\_\\[\\]\\(\\)\\\"\\'\\-\\{\\}\\:\\<\\>\\*\\@\\~\\`\\%\\^\\&\\”\\“\\—\\•\\’\\‘\\#\\$\\0-9]+')).alias('word'))\n",
    "tempest_df = tempest_df.filter(tempest_df.word != '')\n",
    "tempest_df = tempest_df.withColumn(\"play\",F.lit(\"The Tempest\"))"
   ]
  },
  {
   "cell_type": "code",
   "execution_count": 5,
   "id": "1c47d2c5-af6b-4eb4-aee0-7c414fc88ec0",
   "metadata": {},
   "outputs": [
    {
     "name": "stdout",
     "output_type": "stream",
     "text": [
      "+---------+-----------+\n",
      "|     word|       play|\n",
      "+---------+-----------+\n",
      "|      The|The Tempest|\n",
      "|  Project|The Tempest|\n",
      "|Gutenberg|The Tempest|\n",
      "|    eBook|The Tempest|\n",
      "|       of|The Tempest|\n",
      "|      The|The Tempest|\n",
      "|  Tempest|The Tempest|\n",
      "|     This|The Tempest|\n",
      "|    ebook|The Tempest|\n",
      "|       is|The Tempest|\n",
      "|      for|The Tempest|\n",
      "|      the|The Tempest|\n",
      "|      use|The Tempest|\n",
      "|       of|The Tempest|\n",
      "|   anyone|The Tempest|\n",
      "| anywhere|The Tempest|\n",
      "|       in|The Tempest|\n",
      "|      the|The Tempest|\n",
      "|   United|The Tempest|\n",
      "|   States|The Tempest|\n",
      "+---------+-----------+\n",
      "only showing top 20 rows\n",
      "\n"
     ]
    }
   ],
   "source": [
    "tempest_df.show()"
   ]
  },
  {
   "cell_type": "markdown",
   "id": "3c49705a-a507-4cd5-a3a4-0f0ab60b36f9",
   "metadata": {},
   "source": [
    "### Hamlet"
   ]
  },
  {
   "cell_type": "code",
   "execution_count": 6,
   "id": "87d5737d-2fcd-4372-9cdf-9b3b71468293",
   "metadata": {},
   "outputs": [],
   "source": [
    "#Ingest url\n",
    "url = 'https://www.gutenberg.org/cache/epub/27761/pg27761.txt'\n",
    "\n",
    "# #Downloads speech onto each node\n",
    "spark.sparkContext.addFile(url)\n",
    "\n",
    "hamlet = spark.read.text(SparkFiles.get('pg27761.txt'))\n",
    "hamlet_df = hamlet.select(F.explode(F.split(F.col('value'), '[\\s\\.\\,\\!\\?\\;\\_\\[\\]\\(\\)\\\"\\'\\-\\{\\}\\:\\<\\>\\*\\@\\~\\`\\%\\^\\&\\”\\“\\—\\•\\’\\‘\\#\\$\\0-9]+')).alias('word'))\n",
    "hamlet_df = hamlet_df.filter(hamlet_df.word != '')\n",
    "hamlet_df = hamlet_df.withColumn(\"play\",F.lit(\"Hamlet\"))"
   ]
  },
  {
   "cell_type": "code",
   "execution_count": 7,
   "id": "e7966b53-a7bb-4299-a580-c831d6aa8ecb",
   "metadata": {},
   "outputs": [
    {
     "name": "stdout",
     "output_type": "stream",
     "text": [
      "+---------+------+\n",
      "|     word|  play|\n",
      "+---------+------+\n",
      "|      The|Hamlet|\n",
      "|  Project|Hamlet|\n",
      "|Gutenberg|Hamlet|\n",
      "|    eBook|Hamlet|\n",
      "|       of|Hamlet|\n",
      "|   Hamlet|Hamlet|\n",
      "|   Prince|Hamlet|\n",
      "|       of|Hamlet|\n",
      "|  Denmark|Hamlet|\n",
      "|     This|Hamlet|\n",
      "|    ebook|Hamlet|\n",
      "|       is|Hamlet|\n",
      "|      for|Hamlet|\n",
      "|      the|Hamlet|\n",
      "|      use|Hamlet|\n",
      "|       of|Hamlet|\n",
      "|   anyone|Hamlet|\n",
      "| anywhere|Hamlet|\n",
      "|       in|Hamlet|\n",
      "|      the|Hamlet|\n",
      "+---------+------+\n",
      "only showing top 20 rows\n",
      "\n"
     ]
    }
   ],
   "source": [
    "hamlet_df.show()"
   ]
  },
  {
   "cell_type": "markdown",
   "id": "2d693969-866f-4c3b-9e32-4d59c1b9db80",
   "metadata": {},
   "source": [
    "### Macbeth"
   ]
  },
  {
   "cell_type": "code",
   "execution_count": 8,
   "id": "3e957706-d424-4461-bfac-30e2f8ad78fd",
   "metadata": {},
   "outputs": [],
   "source": [
    "#Ingest url\n",
    "url = 'https://www.gutenberg.org/cache/epub/1533/pg1533.txt'\n",
    "\n",
    "# #Downloads speech onto each node\n",
    "spark.sparkContext.addFile(url)\n",
    "\n",
    "macbeth = spark.read.text(SparkFiles.get('pg1533.txt'))\n",
    "macbeth_df = macbeth.select(F.explode(F.split(F.col('value'), '[\\s\\.\\,\\!\\?\\;\\_\\[\\]\\(\\)\\\"\\'\\-\\{\\}\\:\\<\\>\\*\\@\\~\\`\\%\\^\\&\\”\\“\\—\\•\\’\\‘\\#\\$\\0-9]+')).alias('word'))\n",
    "macbeth_df = macbeth_df.filter(macbeth_df.word != '')\n",
    "macbeth_df = macbeth_df.withColumn(\"play\",F.lit(\"Macbeth\"))"
   ]
  },
  {
   "cell_type": "code",
   "execution_count": 9,
   "id": "2d3dd842-afdd-44e0-baa0-4ba4252115d3",
   "metadata": {},
   "outputs": [
    {
     "name": "stdout",
     "output_type": "stream",
     "text": [
      "+---------+-------+\n",
      "|     word|   play|\n",
      "+---------+-------+\n",
      "|      The|Macbeth|\n",
      "|  Project|Macbeth|\n",
      "|Gutenberg|Macbeth|\n",
      "|    eBook|Macbeth|\n",
      "|       of|Macbeth|\n",
      "|  Macbeth|Macbeth|\n",
      "|     This|Macbeth|\n",
      "|    ebook|Macbeth|\n",
      "|       is|Macbeth|\n",
      "|      for|Macbeth|\n",
      "|      the|Macbeth|\n",
      "|      use|Macbeth|\n",
      "|       of|Macbeth|\n",
      "|   anyone|Macbeth|\n",
      "| anywhere|Macbeth|\n",
      "|       in|Macbeth|\n",
      "|      the|Macbeth|\n",
      "|   United|Macbeth|\n",
      "|   States|Macbeth|\n",
      "|      and|Macbeth|\n",
      "+---------+-------+\n",
      "only showing top 20 rows\n",
      "\n"
     ]
    }
   ],
   "source": [
    "macbeth_df.show()"
   ]
  },
  {
   "cell_type": "markdown",
   "id": "0bd5d989-7eba-4eac-aaa5-c44078d20149",
   "metadata": {},
   "source": [
    "### Othello"
   ]
  },
  {
   "cell_type": "code",
   "execution_count": 10,
   "id": "854a6b21-01f0-4278-bfc7-e22234ede752",
   "metadata": {},
   "outputs": [],
   "source": [
    "#Ingest url\n",
    "url = 'https://www.gutenberg.org/cache/epub/1531/pg1531.txt'\n",
    "\n",
    "# #Downloads speech onto each node\n",
    "spark.sparkContext.addFile(url)\n",
    "\n",
    "othello = spark.read.text(SparkFiles.get('pg1531.txt'))\n",
    "othello_df = othello.select(F.explode(F.split(F.col('value'), '[\\s\\.\\,\\!\\?\\;\\_\\[\\]\\(\\)\\\"\\'\\-\\{\\}\\:\\<\\>\\*\\@\\~\\`\\%\\^\\&\\”\\“\\—\\•\\’\\‘\\#\\$\\0-9]+')).alias('word'))\n",
    "othello_df = othello_df.filter(othello_df.word != '')\n",
    "othello_df = othello_df.withColumn(\"play\",F.lit(\"Othello\"))"
   ]
  },
  {
   "cell_type": "code",
   "execution_count": 11,
   "id": "8f917909-0ea6-41e4-b0ed-e331e04318c5",
   "metadata": {},
   "outputs": [
    {
     "name": "stdout",
     "output_type": "stream",
     "text": [
      "+---------+-------+\n",
      "|     word|   play|\n",
      "+---------+-------+\n",
      "|      The|Othello|\n",
      "|  Project|Othello|\n",
      "|Gutenberg|Othello|\n",
      "|    eBook|Othello|\n",
      "|       of|Othello|\n",
      "|  Othello|Othello|\n",
      "|      the|Othello|\n",
      "|     Moor|Othello|\n",
      "|       of|Othello|\n",
      "|   Venice|Othello|\n",
      "|     This|Othello|\n",
      "|    ebook|Othello|\n",
      "|       is|Othello|\n",
      "|      for|Othello|\n",
      "|      the|Othello|\n",
      "|      use|Othello|\n",
      "|       of|Othello|\n",
      "|   anyone|Othello|\n",
      "| anywhere|Othello|\n",
      "|       in|Othello|\n",
      "+---------+-------+\n",
      "only showing top 20 rows\n",
      "\n"
     ]
    }
   ],
   "source": [
    "othello_df.show()"
   ]
  },
  {
   "cell_type": "code",
   "execution_count": 12,
   "id": "1e55e384-5084-4298-b6e7-23ca25f9acf3",
   "metadata": {},
   "outputs": [
    {
     "name": "stdout",
     "output_type": "stream",
     "text": [
      "+---------+----------------+\n",
      "|     word|            play|\n",
      "+---------+----------------+\n",
      "|      The|Romeo and Juliet|\n",
      "|  Project|Romeo and Juliet|\n",
      "|Gutenberg|Romeo and Juliet|\n",
      "|    eBook|Romeo and Juliet|\n",
      "|       of|Romeo and Juliet|\n",
      "|    Romeo|Romeo and Juliet|\n",
      "|      and|Romeo and Juliet|\n",
      "|   Juliet|Romeo and Juliet|\n",
      "|     This|Romeo and Juliet|\n",
      "|    ebook|Romeo and Juliet|\n",
      "|       is|Romeo and Juliet|\n",
      "|      for|Romeo and Juliet|\n",
      "|      the|Romeo and Juliet|\n",
      "|      use|Romeo and Juliet|\n",
      "|       of|Romeo and Juliet|\n",
      "|   anyone|Romeo and Juliet|\n",
      "| anywhere|Romeo and Juliet|\n",
      "|       in|Romeo and Juliet|\n",
      "|      the|Romeo and Juliet|\n",
      "|   United|Romeo and Juliet|\n",
      "+---------+----------------+\n",
      "only showing top 20 rows\n",
      "\n"
     ]
    }
   ],
   "source": [
    "import functools \n",
    "\n",
    "def unionAll(dfs):\n",
    "    return functools.reduce(lambda df1,df2: df1.union(df2.select(df1.columns)), dfs) \n",
    "\n",
    "\n",
    "merged_df = unionAll([rj_df, tempest_df, hamlet_df, macbeth_df, othello_df])\n",
    "merged_df.show() "
   ]
  },
  {
   "cell_type": "markdown",
   "id": "075be886-6ab3-4a22-bd0b-204f82257938",
   "metadata": {},
   "source": [
    "### Total word count: \n",
    "Output the total word count summarizing all plays."
   ]
  },
  {
   "cell_type": "code",
   "execution_count": 13,
   "id": "94ce9d8a-986b-4446-a782-326c9dd9414f",
   "metadata": {},
   "outputs": [
    {
     "data": {
      "text/plain": [
       "146333"
      ]
     },
     "execution_count": 13,
     "metadata": {},
     "output_type": "execute_result"
    }
   ],
   "source": [
    "total_word_count = merged_df.count()\n",
    "total_word_count"
   ]
  },
  {
   "cell_type": "markdown",
   "id": "70a2cdad-12a9-4f96-911d-0f2b2a77d520",
   "metadata": {},
   "source": [
    "### Grouped word count: \n",
    "Group and tally each word present amongst all plays combined. Sort with the most frequent words first.\r\n"
   ]
  },
  {
   "cell_type": "code",
   "execution_count": 14,
   "id": "43249e33-c0d2-47a2-b98a-2ab94e78d114",
   "metadata": {},
   "outputs": [],
   "source": [
    "word_count_df = merged_df.groupBy('word').count()"
   ]
  },
  {
   "cell_type": "code",
   "execution_count": 15,
   "id": "dc5cbda0-262f-44d3-9805-9206372a4649",
   "metadata": {},
   "outputs": [
    {
     "name": "stdout",
     "output_type": "stream",
     "text": [
      "+----+-----+\n",
      "|word|count|\n",
      "+----+-----+\n",
      "| the| 4410|\n",
      "|   I| 3107|\n",
      "| and| 2916|\n",
      "|  of| 2795|\n",
      "|  to| 2689|\n",
      "|   a| 2149|\n",
      "| you| 1818|\n",
      "|  in| 1732|\n",
      "|  my| 1439|\n",
      "|  is| 1383|\n",
      "| not| 1249|\n",
      "|that| 1203|\n",
      "|   s| 1195|\n",
      "|with| 1144|\n",
      "|  it| 1105|\n",
      "|   d| 1059|\n",
      "|  me| 1036|\n",
      "|this| 1004|\n",
      "|  be|  946|\n",
      "| And|  928|\n",
      "+----+-----+\n",
      "only showing top 20 rows\n",
      "\n"
     ]
    }
   ],
   "source": [
    "word_count_df.orderBy(F.desc('count')).show()"
   ]
  },
  {
   "cell_type": "code",
   "execution_count": 16,
   "id": "c3fa1668-0778-4e4d-8255-eab28f30b941",
   "metadata": {},
   "outputs": [
    {
     "name": "stdout",
     "output_type": "stream",
     "text": [
      "+----------+\n",
      "|sum(count)|\n",
      "+----------+\n",
      "|    146333|\n",
      "+----------+\n",
      "\n"
     ]
    }
   ],
   "source": [
    "word_count_df.groupby().sum().show()"
   ]
  },
  {
   "cell_type": "markdown",
   "id": "1c13ee03-c5eb-42fc-a407-e39522eb3b39",
   "metadata": {},
   "source": [
    "### Extended Challenge"
   ]
  },
  {
   "cell_type": "code",
   "execution_count": 17,
   "id": "5deb92ec-02f2-43c0-b47d-7ab2ebeab164",
   "metadata": {},
   "outputs": [],
   "source": [
    "word_df = merged_df.groupBy('word', 'play').count()"
   ]
  },
  {
   "cell_type": "code",
   "execution_count": 18,
   "id": "198ccd43-997a-4ada-a94f-eeb3d61c3aac",
   "metadata": {},
   "outputs": [
    {
     "name": "stdout",
     "output_type": "stream",
     "text": [
      "+----+----------------+-----+\n",
      "|word|            play|count|\n",
      "+----+----------------+-----+\n",
      "| the|          Hamlet| 1314|\n",
      "|   I|         Othello|  897|\n",
      "|  of|          Hamlet|  884|\n",
      "| the|         Othello|  834|\n",
      "|  to|          Hamlet|  794|\n",
      "| the|Romeo and Juliet|  783|\n",
      "| the|         Macbeth|  754|\n",
      "| the|     The Tempest|  725|\n",
      "| and|          Hamlet|  717|\n",
      "|   I|Romeo and Juliet|  656|\n",
      "| and|         Othello|  653|\n",
      "|   I|          Hamlet|  607|\n",
      "|   a|          Hamlet|  596|\n",
      "|   I|     The Tempest|  583|\n",
      "|  to|         Othello|  561|\n",
      "| and|Romeo and Juliet|  551|\n",
      "|  to|Romeo and Juliet|  538|\n",
      "|  of|         Othello|  537|\n",
      "| and|     The Tempest|  513|\n",
      "| you|         Othello|  505|\n",
      "+----+----------------+-----+\n",
      "only showing top 20 rows\n",
      "\n"
     ]
    }
   ],
   "source": [
    "word_df.orderBy(F.desc('count')).show()"
   ]
  },
  {
   "cell_type": "code",
   "execution_count": 19,
   "id": "85ce5f64-d05c-40ad-a9a7-58710a5b09e3",
   "metadata": {},
   "outputs": [
    {
     "name": "stdout",
     "output_type": "stream",
     "text": [
      "+----------+\n",
      "|sum(count)|\n",
      "+----------+\n",
      "|    146333|\n",
      "+----------+\n",
      "\n"
     ]
    }
   ],
   "source": [
    "word_df.groupby().sum().show()"
   ]
  },
  {
   "cell_type": "markdown",
   "id": "4f8f61b8-1d15-458e-882e-4c9e078870ea",
   "metadata": {},
   "source": [
    "### Convert to Pandas df"
   ]
  },
  {
   "cell_type": "code",
   "execution_count": 20,
   "id": "830ff1a4-4d06-418b-a1ee-d321f209b3a8",
   "metadata": {},
   "outputs": [],
   "source": [
    "pandas_df = word_count_df.toPandas()"
   ]
  },
  {
   "cell_type": "code",
   "execution_count": 21,
   "id": "10603168-2e27-4a6a-adad-6b0d6e2fdda4",
   "metadata": {},
   "outputs": [
    {
     "data": {
      "text/html": [
       "<div>\n",
       "<style scoped>\n",
       "    .dataframe tbody tr th:only-of-type {\n",
       "        vertical-align: middle;\n",
       "    }\n",
       "\n",
       "    .dataframe tbody tr th {\n",
       "        vertical-align: top;\n",
       "    }\n",
       "\n",
       "    .dataframe thead th {\n",
       "        text-align: right;\n",
       "    }\n",
       "</style>\n",
       "<table border=\"1\" class=\"dataframe\">\n",
       "  <thead>\n",
       "    <tr style=\"text-align: right;\">\n",
       "      <th></th>\n",
       "      <th>word</th>\n",
       "      <th>count</th>\n",
       "    </tr>\n",
       "  </thead>\n",
       "  <tbody>\n",
       "    <tr>\n",
       "      <th>0</th>\n",
       "      <td>online</td>\n",
       "      <td>20</td>\n",
       "    </tr>\n",
       "    <tr>\n",
       "      <th>1</th>\n",
       "      <td>Montagues</td>\n",
       "      <td>6</td>\n",
       "    </tr>\n",
       "    <tr>\n",
       "      <th>2</th>\n",
       "      <td>art</td>\n",
       "      <td>128</td>\n",
       "    </tr>\n",
       "    <tr>\n",
       "      <th>3</th>\n",
       "      <td>those</td>\n",
       "      <td>68</td>\n",
       "    </tr>\n",
       "    <tr>\n",
       "      <th>4</th>\n",
       "      <td>By</td>\n",
       "      <td>107</td>\n",
       "    </tr>\n",
       "  </tbody>\n",
       "</table>\n",
       "</div>"
      ],
      "text/plain": [
       "        word  count\n",
       "0     online     20\n",
       "1  Montagues      6\n",
       "2        art    128\n",
       "3      those     68\n",
       "4         By    107"
      ]
     },
     "execution_count": 21,
     "metadata": {},
     "output_type": "execute_result"
    }
   ],
   "source": [
    "pandas_df.head()"
   ]
  },
  {
   "cell_type": "code",
   "execution_count": 22,
   "id": "3a706b08-d54e-4a0d-ad8d-b0218d6aa325",
   "metadata": {},
   "outputs": [
    {
     "data": {
      "text/html": [
       "<div>\n",
       "<style scoped>\n",
       "    .dataframe tbody tr th:only-of-type {\n",
       "        vertical-align: middle;\n",
       "    }\n",
       "\n",
       "    .dataframe tbody tr th {\n",
       "        vertical-align: top;\n",
       "    }\n",
       "\n",
       "    .dataframe thead th {\n",
       "        text-align: right;\n",
       "    }\n",
       "</style>\n",
       "<table border=\"1\" class=\"dataframe\">\n",
       "  <thead>\n",
       "    <tr style=\"text-align: right;\">\n",
       "      <th></th>\n",
       "      <th>count</th>\n",
       "    </tr>\n",
       "  </thead>\n",
       "  <tbody>\n",
       "    <tr>\n",
       "      <th>count</th>\n",
       "      <td>12207.000000</td>\n",
       "    </tr>\n",
       "    <tr>\n",
       "      <th>mean</th>\n",
       "      <td>11.987630</td>\n",
       "    </tr>\n",
       "    <tr>\n",
       "      <th>std</th>\n",
       "      <td>88.508024</td>\n",
       "    </tr>\n",
       "    <tr>\n",
       "      <th>min</th>\n",
       "      <td>1.000000</td>\n",
       "    </tr>\n",
       "    <tr>\n",
       "      <th>25%</th>\n",
       "      <td>1.000000</td>\n",
       "    </tr>\n",
       "    <tr>\n",
       "      <th>50%</th>\n",
       "      <td>2.000000</td>\n",
       "    </tr>\n",
       "    <tr>\n",
       "      <th>75%</th>\n",
       "      <td>5.000000</td>\n",
       "    </tr>\n",
       "    <tr>\n",
       "      <th>max</th>\n",
       "      <td>4410.000000</td>\n",
       "    </tr>\n",
       "  </tbody>\n",
       "</table>\n",
       "</div>"
      ],
      "text/plain": [
       "              count\n",
       "count  12207.000000\n",
       "mean      11.987630\n",
       "std       88.508024\n",
       "min        1.000000\n",
       "25%        1.000000\n",
       "50%        2.000000\n",
       "75%        5.000000\n",
       "max     4410.000000"
      ]
     },
     "execution_count": 22,
     "metadata": {},
     "output_type": "execute_result"
    }
   ],
   "source": [
    "pandas_df.describe()"
   ]
  },
  {
   "cell_type": "markdown",
   "id": "ae451a8e-da63-43fe-90aa-d1c1f0d7946c",
   "metadata": {},
   "source": [
    "### Display a word cloud with the top 50 words. (Find a Python library to use for this.)\n"
   ]
  },
  {
   "cell_type": "code",
   "execution_count": 23,
   "id": "3ae42c51-e0fd-4d4b-8e69-236c42854304",
   "metadata": {},
   "outputs": [],
   "source": [
    "from wordcloud import WordCloud, ImageColorGenerator\n",
    "from PIL import Image\n",
    "import matplotlib.pyplot as plt\n",
    "import numpy as np"
   ]
  },
  {
   "cell_type": "code",
   "execution_count": 24,
   "id": "0e779709-d5ae-4012-98f0-3af6b67f0d9a",
   "metadata": {},
   "outputs": [],
   "source": [
    "top_words = pandas_df.sort_values(by = 'count', ascending = False)"
   ]
  },
  {
   "cell_type": "code",
   "execution_count": 25,
   "id": "a99630f5-f74d-4711-b622-6f6ed07ed9fa",
   "metadata": {},
   "outputs": [
    {
     "data": {
      "text/html": [
       "<div>\n",
       "<style scoped>\n",
       "    .dataframe tbody tr th:only-of-type {\n",
       "        vertical-align: middle;\n",
       "    }\n",
       "\n",
       "    .dataframe tbody tr th {\n",
       "        vertical-align: top;\n",
       "    }\n",
       "\n",
       "    .dataframe thead th {\n",
       "        text-align: right;\n",
       "    }\n",
       "</style>\n",
       "<table border=\"1\" class=\"dataframe\">\n",
       "  <thead>\n",
       "    <tr style=\"text-align: right;\">\n",
       "      <th></th>\n",
       "      <th>word</th>\n",
       "      <th>count</th>\n",
       "    </tr>\n",
       "  </thead>\n",
       "  <tbody>\n",
       "    <tr>\n",
       "      <th>2526</th>\n",
       "      <td>the</td>\n",
       "      <td>4410</td>\n",
       "    </tr>\n",
       "    <tr>\n",
       "      <th>3679</th>\n",
       "      <td>I</td>\n",
       "      <td>3107</td>\n",
       "    </tr>\n",
       "    <tr>\n",
       "      <th>3042</th>\n",
       "      <td>and</td>\n",
       "      <td>2916</td>\n",
       "    </tr>\n",
       "    <tr>\n",
       "      <th>3264</th>\n",
       "      <td>of</td>\n",
       "      <td>2795</td>\n",
       "    </tr>\n",
       "    <tr>\n",
       "      <th>4287</th>\n",
       "      <td>to</td>\n",
       "      <td>2689</td>\n",
       "    </tr>\n",
       "  </tbody>\n",
       "</table>\n",
       "</div>"
      ],
      "text/plain": [
       "     word  count\n",
       "2526  the   4410\n",
       "3679    I   3107\n",
       "3042  and   2916\n",
       "3264   of   2795\n",
       "4287   to   2689"
      ]
     },
     "execution_count": 25,
     "metadata": {},
     "output_type": "execute_result"
    }
   ],
   "source": [
    "top_50_words = top_words.head(50)\n",
    "top_50_words.head()"
   ]
  },
  {
   "cell_type": "code",
   "execution_count": 26,
   "id": "41cf8401-18f5-4840-8ea5-5eccb8081b25",
   "metadata": {},
   "outputs": [],
   "source": [
    "top50_words = top_50_words['word'].tolist()"
   ]
  },
  {
   "cell_type": "code",
   "execution_count": 27,
   "id": "b3a347e3-8b20-4ea1-8022-09ad65fb7030",
   "metadata": {},
   "outputs": [],
   "source": [
    "top50_words = ' '.join(map(str, top50_words))"
   ]
  },
  {
   "cell_type": "code",
   "execution_count": 28,
   "id": "2f3b90d7-d91f-45ea-9dc6-b99a7fbfef14",
   "metadata": {},
   "outputs": [
    {
     "data": {
      "image/png": "[encoded data removed]",
      "text/plain": [
       "<Figure size 600x600 with 1 Axes>"
      ]
     },
     "metadata": {},
     "output_type": "display_data"
    }
   ],
   "source": [
    "#A function to generate the word cloud from text\n",
    "def generate_wordcloud(data, title):\n",
    "    cloud = WordCloud(width=400,\n",
    "                      height=330,\n",
    "                      max_words=150,\n",
    "                      colormap='tab20c',\n",
    "                      background_color='white',\n",
    "                      collocations=True).generate_from_text(data)\n",
    "    plt.figure(figsize=(6,6))\n",
    "    plt.imshow(cloud)\n",
    "    plt.axis('off')\n",
    "    plt.title(title, fontsize=13)\n",
    "    plt.show()\n",
    "    \n",
    "#Use the function to generate the word cloud\n",
    "generate_wordcloud(top50_words, 'Top 50 words in Shakespeare')"
   ]
  },
  {
   "cell_type": "markdown",
   "id": "503e6708-1f5d-4260-b7b1-1298fb8f9625",
   "metadata": {},
   "source": [
    "### Create a histogram of word counts."
   ]
  },
  {
   "cell_type": "code",
   "execution_count": 29,
   "id": "65c34cb2-b179-414b-ba23-7d0e719ceee4",
   "metadata": {},
   "outputs": [
    {
     "data": {
      "image/png": "[encoded data removed]",
      "text/plain": [
       "<Figure size 2500x600 with 1 Axes>"
      ]
     },
     "metadata": {},
     "output_type": "display_data"
    }
   ],
   "source": [
    "plt.figure(figsize=(25,6))\n",
    "plt.hist(x = top_50_words['count'], bins = 25)\n",
    "plt.xticks(rotation = 90)\n",
    "plt.xlabel('word count')\n",
    "plt.ylabel('Frequency')\n",
    "plt.title('Histogram of word counts', fontsize=13)\n",
    "plt.show()"
   ]
  }
 ],
 "metadata": {
  "kernelspec": {
   "display_name": "Python 3 (ipykernel)",
   "language": "python",
   "name": "python3"
  },
  "language_info": {
   "codemirror_mode": {
    "name": "ipython",
    "version": 3
   },
   "file_extension": ".py",
   "mimetype": "text/x-python",
   "name": "python",
   "nbconvert_exporter": "python",
   "pygments_lexer": "ipython3",
   "version": "3.11.6"
  }
 },
 "nbformat": 4,
 "nbformat_minor": 5
}
