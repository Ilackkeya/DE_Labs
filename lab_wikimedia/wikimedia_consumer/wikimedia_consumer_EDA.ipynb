{
 "cells": [
  {
   "cell_type": "code",
   "execution_count": 1,
   "id": "74ca1a20-11fe-404b-a075-1a2c1883b208",
   "metadata": {},
   "outputs": [],
   "source": [
    "import pandas as pd\n",
    "import numpy as np"
   ]
  },
  {
   "cell_type": "code",
   "execution_count": 2,
   "id": "82223276-cd3a-478f-9ff7-5747af15f515",
   "metadata": {},
   "outputs": [],
   "source": [
    "df = pd.read_csv('wikimedia_combined.csv')"
   ]
  },
  {
   "cell_type": "code",
   "execution_count": 3,
   "id": "1aa345c2-8510-472f-b8f7-e9485bfbdb67",
   "metadata": {},
   "outputs": [
    {
     "data": {
      "text/html": [
       "<div>\n",
       "<style scoped>\n",
       "    .dataframe tbody tr th:only-of-type {\n",
       "        vertical-align: middle;\n",
       "    }\n",
       "\n",
       "    .dataframe tbody tr th {\n",
       "        vertical-align: top;\n",
       "    }\n",
       "\n",
       "    .dataframe thead th {\n",
       "        text-align: right;\n",
       "    }\n",
       "</style>\n",
       "<table border=\"1\" class=\"dataframe\">\n",
       "  <thead>\n",
       "    <tr style=\"text-align: right;\">\n",
       "      <th></th>\n",
       "      <th>timestamp</th>\n",
       "      <th>bot</th>\n",
       "      <th>minor</th>\n",
       "      <th>user</th>\n",
       "      <th>old_length</th>\n",
       "      <th>new_length</th>\n",
       "      <th>domain</th>\n",
       "      <th>length_diff</th>\n",
       "      <th>length_diff_percent</th>\n",
       "    </tr>\n",
       "  </thead>\n",
       "  <tbody>\n",
       "    <tr>\n",
       "      <th>0</th>\n",
       "      <td>1.719348e+09</td>\n",
       "      <td>False</td>\n",
       "      <td>False</td>\n",
       "      <td>Sa~eswiki</td>\n",
       "      <td>1411.0</td>\n",
       "      <td>1381.0</td>\n",
       "      <td>ext.wikipedia.org</td>\n",
       "      <td>-30.0</td>\n",
       "      <td>-2.126152</td>\n",
       "    </tr>\n",
       "    <tr>\n",
       "      <th>1</th>\n",
       "      <td>1.719348e+09</td>\n",
       "      <td>True</td>\n",
       "      <td>False</td>\n",
       "      <td>SchlurcherBot</td>\n",
       "      <td>4282.0</td>\n",
       "      <td>6236.0</td>\n",
       "      <td>commons.wikimedia.org</td>\n",
       "      <td>1954.0</td>\n",
       "      <td>45.632882</td>\n",
       "    </tr>\n",
       "    <tr>\n",
       "      <th>2</th>\n",
       "      <td>1.719348e+09</td>\n",
       "      <td>False</td>\n",
       "      <td>NaN</td>\n",
       "      <td>Eien20</td>\n",
       "      <td>NaN</td>\n",
       "      <td>NaN</td>\n",
       "      <td>commons.wikimedia.org</td>\n",
       "      <td>NaN</td>\n",
       "      <td>NaN</td>\n",
       "    </tr>\n",
       "    <tr>\n",
       "      <th>3</th>\n",
       "      <td>1.719348e+09</td>\n",
       "      <td>False</td>\n",
       "      <td>NaN</td>\n",
       "      <td>Eien20</td>\n",
       "      <td>NaN</td>\n",
       "      <td>NaN</td>\n",
       "      <td>commons.wikimedia.org</td>\n",
       "      <td>NaN</td>\n",
       "      <td>NaN</td>\n",
       "    </tr>\n",
       "    <tr>\n",
       "      <th>4</th>\n",
       "      <td>1.719348e+09</td>\n",
       "      <td>False</td>\n",
       "      <td>NaN</td>\n",
       "      <td>Eien20</td>\n",
       "      <td>NaN</td>\n",
       "      <td>NaN</td>\n",
       "      <td>commons.wikimedia.org</td>\n",
       "      <td>NaN</td>\n",
       "      <td>NaN</td>\n",
       "    </tr>\n",
       "  </tbody>\n",
       "</table>\n",
       "</div>"
      ],
      "text/plain": [
       "      timestamp    bot  minor           user  old_length  new_length  \\\n",
       "0  1.719348e+09  False  False      Sa~eswiki      1411.0      1381.0   \n",
       "1  1.719348e+09   True  False  SchlurcherBot      4282.0      6236.0   \n",
       "2  1.719348e+09  False    NaN         Eien20         NaN         NaN   \n",
       "3  1.719348e+09  False    NaN         Eien20         NaN         NaN   \n",
       "4  1.719348e+09  False    NaN         Eien20         NaN         NaN   \n",
       "\n",
       "                  domain  length_diff  length_diff_percent  \n",
       "0      ext.wikipedia.org        -30.0            -2.126152  \n",
       "1  commons.wikimedia.org       1954.0            45.632882  \n",
       "2  commons.wikimedia.org          NaN                  NaN  \n",
       "3  commons.wikimedia.org          NaN                  NaN  \n",
       "4  commons.wikimedia.org          NaN                  NaN  "
      ]
     },
     "execution_count": 3,
     "metadata": {},
     "output_type": "execute_result"
    }
   ],
   "source": [
    "df.head()"
   ]
  },
  {
   "cell_type": "code",
   "execution_count": 4,
   "id": "2112551e-0e3f-4007-9e71-bd2c852c4b54",
   "metadata": {},
   "outputs": [
    {
     "name": "stdout",
     "output_type": "stream",
     "text": [
      "<class 'pandas.core.frame.DataFrame'>\n",
      "RangeIndex: 135488 entries, 0 to 135487\n",
      "Data columns (total 9 columns):\n",
      " #   Column               Non-Null Count   Dtype  \n",
      "---  ------               --------------   -----  \n",
      " 0   timestamp            135142 non-null  float64\n",
      " 1   bot                  135142 non-null  object \n",
      " 2   minor                91044 non-null   object \n",
      " 3   user                 135139 non-null  object \n",
      " 4   old_length           87109 non-null   float64\n",
      " 5   new_length           91042 non-null   float64\n",
      " 6   domain               135159 non-null  object \n",
      " 7   length_diff          87109 non-null   float64\n",
      " 8   length_diff_percent  87071 non-null   float64\n",
      "dtypes: float64(5), object(4)\n",
      "memory usage: 9.3+ MB\n"
     ]
    }
   ],
   "source": [
    "df.info()"
   ]
  },
  {
   "cell_type": "code",
   "execution_count": 5,
   "id": "69b29b66-4521-43a1-b9c5-f97a9b1544a3",
   "metadata": {},
   "outputs": [
    {
     "data": {
      "text/plain": [
       "timestamp                346\n",
       "bot                      346\n",
       "minor                  44444\n",
       "user                     349\n",
       "old_length             48379\n",
       "new_length             44446\n",
       "domain                   329\n",
       "length_diff            48379\n",
       "length_diff_percent    48417\n",
       "dtype: int64"
      ]
     },
     "execution_count": 5,
     "metadata": {},
     "output_type": "execute_result"
    }
   ],
   "source": [
    "df.isna().sum()"
   ]
  },
  {
   "cell_type": "code",
   "execution_count": 6,
   "id": "32a8d6a1-1cba-4629-a3bb-3583a056c267",
   "metadata": {},
   "outputs": [],
   "source": [
    "cleaned_df = df.dropna()"
   ]
  },
  {
   "cell_type": "code",
   "execution_count": 7,
   "id": "7695396c-42f6-46f5-a801-1ad40f29906d",
   "metadata": {},
   "outputs": [
    {
     "data": {
      "text/plain": [
       "677"
      ]
     },
     "execution_count": 7,
     "metadata": {},
     "output_type": "execute_result"
    }
   ],
   "source": [
    "cleaned_df.duplicated().sum()"
   ]
  },
  {
   "cell_type": "code",
   "execution_count": 8,
   "id": "be8a15fa-5451-4216-965f-fe1c43bab744",
   "metadata": {},
   "outputs": [],
   "source": [
    "cleaned_df = cleaned_df.drop_duplicates()"
   ]
  },
  {
   "cell_type": "code",
   "execution_count": 9,
   "id": "aa7335a0-7a53-4771-b6a2-cf5c648a6433",
   "metadata": {},
   "outputs": [
    {
     "name": "stdout",
     "output_type": "stream",
     "text": [
      "<class 'pandas.core.frame.DataFrame'>\n",
      "Index: 86393 entries, 0 to 135486\n",
      "Data columns (total 9 columns):\n",
      " #   Column               Non-Null Count  Dtype  \n",
      "---  ------               --------------  -----  \n",
      " 0   timestamp            86393 non-null  float64\n",
      " 1   bot                  86393 non-null  object \n",
      " 2   minor                86393 non-null  object \n",
      " 3   user                 86393 non-null  object \n",
      " 4   old_length           86393 non-null  float64\n",
      " 5   new_length           86393 non-null  float64\n",
      " 6   domain               86393 non-null  object \n",
      " 7   length_diff          86393 non-null  float64\n",
      " 8   length_diff_percent  86393 non-null  float64\n",
      "dtypes: float64(5), object(4)\n",
      "memory usage: 6.6+ MB\n"
     ]
    }
   ],
   "source": [
    "cleaned_df.info()"
   ]
  },
  {
   "cell_type": "code",
   "execution_count": 10,
   "id": "cc430576-eeef-4ffb-a1f9-fe08783b3113",
   "metadata": {},
   "outputs": [
    {
     "data": {
      "text/html": [
       "<div>\n",
       "<style scoped>\n",
       "    .dataframe tbody tr th:only-of-type {\n",
       "        vertical-align: middle;\n",
       "    }\n",
       "\n",
       "    .dataframe tbody tr th {\n",
       "        vertical-align: top;\n",
       "    }\n",
       "\n",
       "    .dataframe thead th {\n",
       "        text-align: right;\n",
       "    }\n",
       "</style>\n",
       "<table border=\"1\" class=\"dataframe\">\n",
       "  <thead>\n",
       "    <tr style=\"text-align: right;\">\n",
       "      <th></th>\n",
       "      <th>timestamp</th>\n",
       "      <th>old_length</th>\n",
       "      <th>new_length</th>\n",
       "      <th>length_diff</th>\n",
       "      <th>length_diff_percent</th>\n",
       "    </tr>\n",
       "  </thead>\n",
       "  <tbody>\n",
       "    <tr>\n",
       "      <th>count</th>\n",
       "      <td>8.639300e+04</td>\n",
       "      <td>8.639300e+04</td>\n",
       "      <td>8.639300e+04</td>\n",
       "      <td>86393.000000</td>\n",
       "      <td>8.639300e+04</td>\n",
       "    </tr>\n",
       "    <tr>\n",
       "      <th>mean</th>\n",
       "      <td>1.719349e+09</td>\n",
       "      <td>2.137777e+04</td>\n",
       "      <td>2.173614e+04</td>\n",
       "      <td>358.364115</td>\n",
       "      <td>4.956101e+01</td>\n",
       "    </tr>\n",
       "    <tr>\n",
       "      <th>std</th>\n",
       "      <td>1.137748e+03</td>\n",
       "      <td>3.917755e+04</td>\n",
       "      <td>3.899558e+04</td>\n",
       "      <td>3665.404970</td>\n",
       "      <td>6.397180e+03</td>\n",
       "    </tr>\n",
       "    <tr>\n",
       "      <th>min</th>\n",
       "      <td>1.719346e+09</td>\n",
       "      <td>3.000000e+00</td>\n",
       "      <td>0.000000e+00</td>\n",
       "      <td>-703682.000000</td>\n",
       "      <td>-1.000000e+02</td>\n",
       "    </tr>\n",
       "    <tr>\n",
       "      <th>25%</th>\n",
       "      <td>1.719348e+09</td>\n",
       "      <td>4.090000e+03</td>\n",
       "      <td>4.990000e+03</td>\n",
       "      <td>4.000000</td>\n",
       "      <td>3.996803e-02</td>\n",
       "    </tr>\n",
       "    <tr>\n",
       "      <th>50%</th>\n",
       "      <td>1.719349e+09</td>\n",
       "      <td>9.382000e+03</td>\n",
       "      <td>9.778000e+03</td>\n",
       "      <td>83.000000</td>\n",
       "      <td>6.630639e-01</td>\n",
       "    </tr>\n",
       "    <tr>\n",
       "      <th>75%</th>\n",
       "      <td>1.719349e+09</td>\n",
       "      <td>2.608200e+04</td>\n",
       "      <td>2.620700e+04</td>\n",
       "      <td>385.000000</td>\n",
       "      <td>9.168993e+00</td>\n",
       "    </tr>\n",
       "    <tr>\n",
       "      <th>max</th>\n",
       "      <td>1.719351e+09</td>\n",
       "      <td>1.686958e+06</td>\n",
       "      <td>1.686910e+06</td>\n",
       "      <td>156875.000000</td>\n",
       "      <td>1.872762e+06</td>\n",
       "    </tr>\n",
       "  </tbody>\n",
       "</table>\n",
       "</div>"
      ],
      "text/plain": [
       "          timestamp    old_length    new_length    length_diff  \\\n",
       "count  8.639300e+04  8.639300e+04  8.639300e+04   86393.000000   \n",
       "mean   1.719349e+09  2.137777e+04  2.173614e+04     358.364115   \n",
       "std    1.137748e+03  3.917755e+04  3.899558e+04    3665.404970   \n",
       "min    1.719346e+09  3.000000e+00  0.000000e+00 -703682.000000   \n",
       "25%    1.719348e+09  4.090000e+03  4.990000e+03       4.000000   \n",
       "50%    1.719349e+09  9.382000e+03  9.778000e+03      83.000000   \n",
       "75%    1.719349e+09  2.608200e+04  2.620700e+04     385.000000   \n",
       "max    1.719351e+09  1.686958e+06  1.686910e+06  156875.000000   \n",
       "\n",
       "       length_diff_percent  \n",
       "count         8.639300e+04  \n",
       "mean          4.956101e+01  \n",
       "std           6.397180e+03  \n",
       "min          -1.000000e+02  \n",
       "25%           3.996803e-02  \n",
       "50%           6.630639e-01  \n",
       "75%           9.168993e+00  \n",
       "max           1.872762e+06  "
      ]
     },
     "execution_count": 10,
     "metadata": {},
     "output_type": "execute_result"
    }
   ],
   "source": [
    "cleaned_df.describe()"
   ]
  },
  {
   "cell_type": "code",
   "execution_count": 11,
   "id": "c2e4e389-f618-48db-818f-d7c71af0e14c",
   "metadata": {},
   "outputs": [],
   "source": [
    "cleaned_df.to_csv('Cleaned_wikimedia_combined.csv', index = False)"
   ]
  },
  {
   "cell_type": "code",
   "execution_count": null,
   "id": "ff6852b8-ef9d-4b34-b132-6de125b3c7c2",
   "metadata": {},
   "outputs": [],
   "source": []
  }
 ],
 "metadata": {
  "kernelspec": {
   "display_name": "Python 3 (ipykernel)",
   "language": "python",
   "name": "python3"
  },
  "language_info": {
   "codemirror_mode": {
    "name": "ipython",
    "version": 3
   },
   "file_extension": ".py",
   "mimetype": "text/x-python",
   "name": "python",
   "nbconvert_exporter": "python",
   "pygments_lexer": "ipython3",
   "version": "3.11.7"
  }
 },
 "nbformat": 4,
 "nbformat_minor": 5
}
